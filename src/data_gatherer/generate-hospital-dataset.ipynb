{
 "cells": [
  {
   "cell_type": "markdown",
   "metadata": {},
   "source": [
    "# Generate hospital dataset"
   ]
  },
  {
   "cell_type": "markdown",
   "metadata": {},
   "source": [
    "## Get mapping of existing hospitals from OpenStreetMap to cities"
   ]
  },
  {
   "cell_type": "code",
   "execution_count": 3,
   "metadata": {},
   "outputs": [],
   "source": [
    "import requests\n",
    "import json\n",
    "import pandas as pd\n",
    "import numpy as np"
   ]
  },
  {
   "cell_type": "code",
   "execution_count": 4,
   "metadata": {},
   "outputs": [],
   "source": [
    "# spin-out from 'LK_data_clean.csv' & 'staedte_data.csv'\n",
    "full_data = pd.read_csv('../../data/data_gatherer/full_population_data.csv')"
   ]
  },
  {
   "cell_type": "code",
   "execution_count": 5,
   "metadata": {},
   "outputs": [],
   "source": [
    "datapath_hospitals = '../../data/hospitals/hospitals-realistic.json'"
   ]
  },
  {
   "cell_type": "code",
   "execution_count": 7,
   "metadata": {},
   "outputs": [],
   "source": [
    "# helper function: coordinates to distance\n",
    "\n",
    "from math import sin, asin, cos, sqrt, radians\n",
    "\n",
    "# distance in kilometers between two positions\n",
    "# position is given as spherical coordinates (lat, lon)\n",
    "\n",
    "def get_distance(a, b):\n",
    "    (lat1, lon1) = a\n",
    "    (lat2, lon2) = b\n",
    "    lon1, lat1, lon2, lat2 = map(radians, [lon1, lat1, lon2, lat2])\n",
    "    dlon = lon2 - lon1\n",
    "    dlat = lat2 - lat1\n",
    "    a = sin(dlat / 2) ** 2 + cos(lat1) * cos(lat2) * sin(dlon / 2) ** 2\n",
    "    return 2 * 6371.0 * asin(sqrt(a))"
   ]
  },
  {
   "cell_type": "code",
   "execution_count": 33,
   "metadata": {},
   "outputs": [],
   "source": [
    "import json\n",
    "from pprint import pprint\n",
    "\n",
    "with open(datapath_hospitals) as f:\n",
    "    hospitals = json.load(f)"
   ]
  },
  {
   "cell_type": "code",
   "execution_count": 10,
   "metadata": {},
   "outputs": [],
   "source": [
    "mapping_dict = {}\n",
    "for key,value in hospitals.items():\n",
    "    a = (value['position']['lat'], value['position']['lon'])\n",
    "    min_dist = 1e10\n",
    "    best_city = ''\n",
    "    for index, row in full_data.iterrows():\n",
    "        b = (row['latitude'],row['longitude'])\n",
    "        curr_dist = get_distance(a,b)\n",
    "        if curr_dist < min_dist:\n",
    "            min_dist = curr_dist\n",
    "            best_city = row['stadt']\n",
    "            BL = row['BL']\n",
    "    mapping_dict[key] = {\n",
    "        \"stadt\": best_city,\n",
    "        \"distance\": min_dist,\n",
    "        \"BL\": BL\n",
    "    }"
   ]
  },
  {
   "cell_type": "code",
   "execution_count": 11,
   "metadata": {},
   "outputs": [
    {
     "name": "stdout",
     "output_type": "stream",
     "text": [
      "{'0': {'stadt': 'torgau', 'distance': 1.2044902731450768, 'BL': 'SN'}, '1': {'stadt': 'worms', 'distance': 8.882247469805518, 'BL': 'RP'}, '2': {'stadt': 'hof', 'distance': 26.52630913781155, 'BL': 'BY'}, '3': {'stadt': 'gera', 'distance': 2.272182457572733, 'BL': 'TH'}, '4': {'stadt': 'karlsruhe', 'distance': 4.0289634570543855, 'BL': 'BW'}, '5': {'stadt': 'donauworth', 'distance': 26.84089437254769, 'BL': 'BY'}, '6': {'stadt': 'saalfeld', 'distance': 18.874505691057763, 'BL': 'TH'}, '7': {'stadt': 'osnabruck', 'distance': 1.9866969063551654, 'BL': 'NI'}, '8': {'stadt': 'badtolz', 'distance': 19.15273309197755, 'BL': 'BY'}, '9': {'stadt': 'munchen', 'distance': 1.1424844684370898, 'BL': 'BY'}, '10': {'stadt': 'munchen', 'distance': 1.2948905427012425, 'BL': 'BY'}, '11': {'stadt': 'munchen', 'distance': 1.4203092748416233, 'BL': 'BY'}, '12': {'stadt': 'munchen', 'distance': 1.4111720725179087, 'BL': 'BY'}, '13': {'stadt': 'munchen', 'distance': 1.4283565387245956, 'BL': 'BY'}, '14': {'stadt': 'munchen', 'distance': 1.4470692677315689, 'BL': 'BY'}, '15': {'stadt': 'oldenburg', 'distance': 2.6876348800398997, 'BL': 'NI'}, '16': {'stadt': 'gross-gerau', 'distance': 11.542518500668812, 'BL': 'HE'}, '17': {'stadt': 'hannover', 'distance': 0.8912327845746728, 'BL': 'NI'}, '18': {'stadt': 'rosenheim', 'distance': 16.340043256258507, 'BL': 'BY'}, '19': {'stadt': 'lichtenfels', 'distance': 13.204678836512711, 'BL': 'BY'}, '20': {'stadt': 'chemnitz', 'distance': 10.3103387591973, 'BL': 'SN'}, '21': {'stadt': 'lindau', 'distance': 0.6734560304579655, 'BL': 'BY'}, '22': {'stadt': 'heppenheim', 'distance': 12.520170104113197, 'BL': 'HE'}, '23': {'stadt': 'altotting', 'distance': 13.857518094698042, 'BL': 'BY'}, '24': {'stadt': 'bochum', 'distance': 1.4293024049519745, 'BL': 'NW'}, '25': {'stadt': 'freiburg', 'distance': 0.906372561705324, 'BL': 'BW'}, '26': {'stadt': 'nordhorn', 'distance': 28.99513873332608, 'BL': 'NI'}, '27': {'stadt': 'furstenfeldbruck', 'distance': 14.905182530160426, 'BL': 'BY'}, '28': {'stadt': 'tauberbischofsheim', 'distance': 16.58891040432135, 'BL': 'BW'}, '29': {'stadt': 'monchengladbach', 'distance': 7.030537506188381, 'BL': 'NW'}, '30': {'stadt': 'birkenfeld', 'distance': 3.6189532275580905, 'BL': 'RP'}, '31': {'stadt': 'gelsenkirchen', 'distance': 6.087841392685402, 'BL': 'NW'}, '32': {'stadt': 'gelsenkirchen', 'distance': 5.673798102367021, 'BL': 'NW'}, '33': {'stadt': 'gelsenkirchen', 'distance': 7.222064033555083, 'BL': 'NW'}, '34': {'stadt': 'neustadtanderwaldnaab', 'distance': 20.547631326567803, 'BL': 'BY'}, '35': {'stadt': 'gelsenkirchen', 'distance': 6.0696959380223765, 'BL': 'NW'}, '36': {'stadt': 'gelsenkirchen', 'distance': 6.02769239163548, 'BL': 'NW'}, '37': {'stadt': 'calw', 'distance': 6.945015497883115, 'BL': 'BW'}, '38': {'stadt': 'celle', 'distance': 1.3274652129877675, 'BL': 'NI'}, '39': {'stadt': 'forchheim', 'distance': 1.3842277069349116, 'BL': 'BY'}, '40': {'stadt': 'biberachanderriss', 'distance': 16.219262232691673, 'BL': 'BW'}, '41': {'stadt': 'homberg', 'distance': 22.24926032911656, 'BL': 'HE'}, '42': {'stadt': 'homberg', 'distance': 22.200608506361213, 'BL': 'HE'}, '43': {'stadt': 'oldenburg', 'distance': 3.9679988968300948, 'BL': 'NI'}, '44': {'stadt': 'homberg', 'distance': 16.220465610312385, 'BL': 'HE'}, '45': {'stadt': 'homberg', 'distance': 16.483350248692364, 'BL': 'HE'}, '46': {'stadt': 'chemnitz', 'distance': 21.893992303365255, 'BL': 'SN'}, '47': {'stadt': 'coesfeld', 'distance': 1.8256836700803385, 'BL': 'NW'}, '48': {'stadt': 'dachau', 'distance': 0.4064439703659588, 'BL': 'BY'}, '49': {'stadt': 'erding', 'distance': 16.367125539475502, 'BL': 'BY'}, '50': {'stadt': 'tauberbischofsheim', 'distance': 16.65868393414, 'BL': 'BW'}, '51': {'stadt': 'konstanz', 'distance': 17.184129374571814, 'BL': 'BW'}, '52': {'stadt': 'monchengladbach', 'distance': 6.068218233585202, 'BL': 'NW'}, '53': {'stadt': 'offenburg', 'distance': 1.8215714552565612, 'BL': 'BW'}, '54': {'stadt': 'badneustadtandersaale', 'distance': 1.5515276656100343, 'BL': 'BY'}, '55': {'stadt': 'hagen', 'distance': 9.611534746066404, 'BL': 'NW'}, '56': {'stadt': 'lindau', 'distance': 16.363681054201958, 'BL': 'BY'}, '57': {'stadt': 'lindau', 'distance': 15.710865586078423, 'BL': 'BY'}, '58': {'stadt': 'bamberg', 'distance': 18.413390401884417, 'BL': 'BY'}, '59': {'stadt': 'hamburg', 'distance': 10.982187342095783, 'BL': 'HH'}, '60': {'stadt': 'munchen', 'distance': 11.58687617975022, 'BL': 'BY'}, '61': {'stadt': 'dusseldorf', 'distance': 0.686752975173215, 'BL': 'NW'}, '62': {'stadt': 'munchen', 'distance': 1.0871824022656282, 'BL': 'BY'}, '63': {'stadt': 'herne', 'distance': 4.219115675635931, 'BL': 'NW'}, '64': {'stadt': 'badkissingen', 'distance': 11.013603377688995, 'BL': 'BY'}, '65': {'stadt': 'herford', 'distance': 6.674251934763035, 'BL': 'NW'}, '66': {'stadt': 'pfarrkirchen', 'distance': 0.6275957122712993, 'BL': 'BY'}, '67': {'stadt': 'munchen', 'distance': 4.522769000599902, 'BL': 'BY'}, '68': {'stadt': 'pfarrkirchen', 'distance': 21.699189564449913, 'BL': 'BY'}, '69': {'stadt': 'herford', 'distance': 7.481138888841062, 'BL': 'NW'}, '70': {'stadt': 'worms', 'distance': 9.487680381999722, 'BL': 'RP'}, '71': {'stadt': 'herford', 'distance': 8.170343517022262, 'BL': 'NW'}, '72': {'stadt': 'pfarrkirchen', 'distance': 0.621578173951608, 'BL': 'BY'}, '73': {'stadt': 'potsdam', 'distance': 42.975518373507654, 'BL': 'BB'}, '74': {'stadt': 'ludenscheid', 'distance': 21.329159765730896, 'BL': 'NW'}, '75': {'stadt': 'bergischgladbach', 'distance': 0.7674858102027986, 'BL': 'NW'}, '76': {'stadt': 'furstenfeldbruck', 'distance': 16.795374292475252, 'BL': 'BY'}, '77': {'stadt': 'schwabischhall', 'distance': 2.1935368127928654, 'BL': 'BW'}, '78': {'stadt': 'erbach', 'distance': 0.5534814344065334, 'BL': 'HE'}, '79': {'stadt': 'essen', 'distance': 1.3262741615590719, 'BL': 'NW'}, '80': {'stadt': 'eberswalde', 'distance': 38.433367595078636, 'BL': 'BB'}, '81': {'stadt': 'ingolstadt', 'distance': 0.5376502863297203, 'BL': 'BY'}, '82': {'stadt': 'hof', 'distance': 21.07492194575712, 'BL': 'BY'}, '83': {'stadt': 'kempten', 'distance': 20.95701036797328, 'BL': 'BY'}, '84': {'stadt': 'sigmaringen', 'distance': 17.87357394108125, 'BL': 'BW'}, '85': {'stadt': 'pforzheim', 'distance': 3.023527196800363, 'BL': 'BW'}, '86': {'stadt': 'munchen', 'distance': 2.2175383960194637, 'BL': 'BY'}, '87': {'stadt': 'altotting', 'distance': 27.971103187970275, 'BL': 'BY'}, '88': {'stadt': 'sonthofen', 'distance': 8.98126903451673, 'BL': 'BY'}, '89': {'stadt': 'stuttgart', 'distance': 2.2479974716855073, 'BL': 'BW'}, '90': {'stadt': 'sigmaringen', 'distance': 1.6012041966533355, 'BL': 'BW'}, '91': {'stadt': 'nurnberg', 'distance': 0.8396155590825589, 'BL': 'BY'}, '92': {'stadt': 'kitzingen', 'distance': 15.146485843427605, 'BL': 'BY'}, '93': {'stadt': 'kassel', 'distance': 21.92688794863093, 'BL': 'HE'}, '94': {'stadt': 'sigmaringen', 'distance': 22.164677122862102, 'BL': 'BW'}, '95': {'stadt': 'hagen', 'distance': 5.138534242424653, 'BL': 'NW'}, '96': {'stadt': 'ludenscheid', 'distance': 18.797871974761538, 'BL': 'NW'}, '97': {'stadt': 'freiburg', 'distance': 22.034122782132357, 'BL': 'BW'}, '98': {'stadt': 'nurnberg', 'distance': 4.122309891275945, 'BL': 'BY'}, '99': {'stadt': 'schwelm', 'distance': 10.561231346612436, 'BL': 'NW'}, '100': {'stadt': 'wurzburg', 'distance': 1.9275330221283469, 'BL': 'BY'}, '101': {'stadt': 'pfarrkirchen', 'distance': 12.974475901619092, 'BL': 'BY'}, '102': {'stadt': 'goppingen', 'distance': 1.7748630114971204, 'BL': 'BW'}, '103': {'stadt': 'sonthofen', 'distance': 10.600762921426242, 'BL': 'BY'}, '104': {'stadt': 'heidelberg', 'distance': 5.712164914687844, 'BL': 'SH'}, '105': {'stadt': 'senftenberg', 'distance': 25.659025277942128, 'BL': 'BB'}, '106': {'stadt': 'passau', 'distance': 6.061751474757445, 'BL': 'BY'}, '107': {'stadt': 'wurzburg', 'distance': 1.3462696338351854, 'BL': 'BY'}, '108': {'stadt': 'magdeburg', 'distance': 12.032621917184166, 'BL': 'ST'}, '109': {'stadt': 'wurzburg', 'distance': 0.5476531355715931, 'BL': 'BY'}, '110': {'stadt': 'wurzburg', 'distance': 2.318934055900126, 'BL': 'BY'}, '111': {'stadt': 'lichtenfels', 'distance': 9.258177005207695, 'BL': 'BY'}, '112': {'stadt': 'neuruppin', 'distance': 23.22279373059008, 'BL': 'BB'}, '113': {'stadt': 'munchen', 'distance': 2.6943953641282494, 'BL': 'BY'}, '114': {'stadt': 'wurzburg', 'distance': 2.6476588654135975, 'BL': 'BY'}, '115': {'stadt': 'wurzburg', 'distance': 2.7089868765890373, 'BL': 'BY'}, '116': {'stadt': 'wurzburg', 'distance': 0.9457831547664775, 'BL': 'BY'}, '117': {'stadt': 'cham', 'distance': 21.925537913000912, 'BL': 'BY'}, '118': {'stadt': 'winsen', 'distance': 11.686905527188117, 'BL': 'NI'}, '119': {'stadt': 'siegen', 'distance': 31.519228669440377, 'BL': 'NW'}, '120': {'stadt': 'solingen', 'distance': 7.059037774293474, 'BL': 'NW'}, '121': {'stadt': 'eutin', 'distance': 5.663085333354347, 'BL': 'SH'}, '122': {'stadt': 'reutlingen', 'distance': 19.77201804769837, 'BL': 'BW'}, '123': {'stadt': 'munchen', 'distance': 0.816714727336743, 'BL': 'BY'}, '124': {'stadt': 'monchengladbach', 'distance': 0.7694432963050831, 'BL': 'NW'}, '125': {'stadt': 'wetzlar', 'distance': 14.561056761558573, 'BL': 'HE'}, '126': {'stadt': 'kassel', 'distance': 34.87014400312011, 'BL': 'HE'}, '127': {'stadt': 'osnabruck', 'distance': 32.697737837712296, 'BL': 'NI'}, '128': {'stadt': 'badhomburg', 'distance': 19.226863370922576, 'BL': 'SL'}, '129': {'stadt': 'koln', 'distance': 4.1242130877961864, 'BL': 'NW'}, '130': {'stadt': 'nurnberg', 'distance': 2.5284286802446263, 'BL': 'BY'}, '131': {'stadt': 'dachau', 'distance': 10.41206913297482, 'BL': 'BY'}, '132': {'stadt': 'boblingen', 'distance': 2.733741769435097, 'BL': 'BW'}, '133': {'stadt': 'ravensburg', 'distance': 18.338940625537113, 'BL': 'BW'}, '134': {'stadt': 'ravensburg', 'distance': 18.24138685701936, 'BL': 'BW'}, '135': {'stadt': 'ludenscheid', 'distance': 1.7745905778836366, 'BL': 'NW'}, '136': {'stadt': 'badhomburg', 'distance': 19.237082516162705, 'BL': 'SL'}, '137': {'stadt': 'freiburg', 'distance': 33.31812550683392, 'BL': 'BW'}, '138': {'stadt': 'meiningen', 'distance': 3.3593575157777695, 'BL': 'TH'}, '139': {'stadt': 'ravensburg', 'distance': 19.750065497917866, 'BL': 'BW'}, '140': {'stadt': 'wuppertal', 'distance': 4.719341033179261, 'BL': 'NW'}, '141': {'stadt': 'landshut', 'distance': 1.0663346545860906, 'BL': 'BY'}, '142': {'stadt': 'ingolstadt', 'distance': 1.0282472130209885, 'BL': 'BY'}, '143': {'stadt': 'furstenfeldbruck', 'distance': 21.775558941985338, 'BL': 'BY'}, '144': {'stadt': 'homberg', 'distance': 24.469729675597737, 'BL': 'HE'}, '145': {'stadt': 'duren', 'distance': 2.714597490395413, 'BL': 'NW'}, '146': {'stadt': 'dortmund', 'distance': 1.0774775722497845, 'BL': 'NW'}, '147': {'stadt': 'stadtneumarktinderoberpfalz', 'distance': 1.7236048386792913, 'BL': 'BY'}, '148': {'stadt': 'kassel', 'distance': 28.496451391340607, 'BL': 'HE'}, '149': {'stadt': 'hof', 'distance': 20.721804467935744, 'BL': 'BY'}, '150': {'stadt': 'birkenfeld', 'distance': 8.735516646028978, 'BL': 'RP'}, '151': {'stadt': 'kaiserslautern', 'distance': 14.63403502835502, 'BL': 'RP'}, '152': {'stadt': 'duren', 'distance': 16.300386056666937, 'BL': 'NW'}, '153': {'stadt': 'straubing', 'distance': 9.977293480957954, 'BL': 'BY'}, '154': {'stadt': 'eutin', 'distance': 7.1714280571507985, 'BL': 'SH'}, '155': {'stadt': 'villingen-schwenningen', 'distance': 25.034481890768955, 'BL': 'BW'}, '156': {'stadt': 'meppen', 'distance': 22.494341430047776, 'BL': 'NI'}, '157': {'stadt': 'siegburg', 'distance': 18.135955231300056, 'BL': 'NW'}, '158': {'stadt': 'annaberg-buchholz', 'distance': 25.523470363237006, 'BL': 'SN'}, '159': {'stadt': 'neuruppin', 'distance': 21.936266863251472, 'BL': 'BB'}, '160': {'stadt': 'landshut', 'distance': 21.253706691646506, 'BL': 'BY'}, '161': {'stadt': 'bernburg', 'distance': 1.2937233496556149, 'BL': 'ST'}, '162': {'stadt': 'nurnberg', 'distance': 5.113042405186483, 'BL': 'BY'}, '163': {'stadt': 'munchen', 'distance': 2.0520898178771843, 'BL': 'BY'}, '164': {'stadt': 'osnabruck', 'distance': 15.973157391654297, 'BL': 'NI'}, '165': {'stadt': 'berlin', 'distance': 16.293990435162655, 'BL': 'BE'}, '166': {'stadt': 'osnabruck', 'distance': 2.3946654742793503, 'BL': 'NI'}, '167': {'stadt': 'osnabruck', 'distance': 2.426137778336015, 'BL': 'NI'}, '168': {'stadt': 'lubeck', 'distance': 14.811940125964345, 'BL': 'SH'}, '169': {'stadt': 'magdeburg', 'distance': 7.873913569785624, 'BL': 'ST'}, '170': {'stadt': 'calw', 'distance': 7.288191385884848, 'BL': 'BW'}, '171': {'stadt': 'munchen', 'distance': 1.2309636004567188, 'BL': 'BY'}, '172': {'stadt': 'seelow', 'distance': 2.3651903011154913, 'BL': 'BB'}, '173': {'stadt': 'borken', 'distance': 22.206052390281958, 'BL': 'NW'}, '174': {'stadt': 'kusel', 'distance': 20.344293937110564, 'BL': 'RP'}, '175': {'stadt': 'dillingenanderdonau', 'distance': 14.421981613985311, 'BL': 'BY'}, '176': {'stadt': 'aschaffenburg', 'distance': 10.413031434630938, 'BL': 'BY'}, '177': {'stadt': 'paderborn', 'distance': 28.485594940665237, 'BL': 'NW'}, '178': {'stadt': 'leverkusen', 'distance': 1.6684269781999177, 'BL': 'NW'}, '179': {'stadt': 'paderborn', 'distance': 18.19402131655449, 'BL': 'NW'}, '180': {'stadt': 'borken', 'distance': 15.954170794836992, 'BL': 'NW'}, '181': {'stadt': 'deggendorf', 'distance': 26.69104166530319, 'BL': 'BY'}, '182': {'stadt': 'badschwalbach', 'distance': 16.810919834945032, 'BL': 'HE'}, '183': {'stadt': 'meschede', 'distance': 24.852747752514958, 'BL': 'NW'}, '184': {'stadt': 'ludenscheid', 'distance': 17.409103415702777, 'BL': 'NW'}, '185': {'stadt': 'passau', 'distance': 28.502811364283478, 'BL': 'BY'}, '186': {'stadt': 'greiz', 'distance': 15.583901833709415, 'BL': 'TH'}, '187': {'stadt': 'kassel', 'distance': 19.340639162993682, 'BL': 'HE'}, '188': {'stadt': 'rosenheim', 'distance': 9.252068163443226, 'BL': 'BY'}, '189': {'stadt': 'schweinfurt', 'distance': 12.446744618426353, 'BL': 'BY'}, '190': {'stadt': 'wurzburg', 'distance': 1.3579091066557174, 'BL': 'BY'}, '191': {'stadt': 'wurzburg', 'distance': 1.32831037187399, 'BL': 'BY'}, '192': {'stadt': 'wurzburg', 'distance': 1.3686853941614159, 'BL': 'BY'}, '193': {'stadt': 'solingen', 'distance': 8.821216877887387, 'BL': 'NW'}, '194': {'stadt': 'hameln', 'distance': 20.65114062372213, 'BL': 'NI'}, '195': {'stadt': 'cottbus', 'distance': 35.82719782905483, 'BL': 'BB'}, '196': {'stadt': 'herzberg', 'distance': 9.796575766187013, 'BL': 'BB'}, '197': {'stadt': 'speyer', 'distance': 20.01487354719589, 'BL': 'RP'}, '198': {'stadt': 'heidelberg', 'distance': 0.5538265506994315, 'BL': 'SH'}, '199': {'stadt': 'heidelberg', 'distance': 0.6475156929322305, 'BL': 'SH'}, '200': {'stadt': 'heidelberg', 'distance': 0.4991956639213817, 'BL': 'SH'}, '201': {'stadt': 'potsdam', 'distance': 37.692119393425294, 'BL': 'BB'}, '202': {'stadt': 'cottbus', 'distance': 32.86416171435484, 'BL': 'BB'}, '203': {'stadt': 'cottbus', 'distance': 22.574708319114475, 'BL': 'BB'}, '204': {'stadt': 'badreichenhall', 'distance': 18.30366841253611, 'BL': 'BY'}, '205': {'stadt': 'memmingen', 'distance': 13.164895151595559, 'BL': 'BY'}, '206': {'stadt': 'munchen', 'distance': 1.2417252336259348, 'BL': 'BY'}, '207': {'stadt': 'ravensburg', 'distance': 0.5958065079411536, 'BL': 'BW'}, '208': {'stadt': 'heinsberg', 'distance': 5.184884195895905, 'BL': 'NW'}, '209': {'stadt': 'hagen', 'distance': 16.619594735215085, 'BL': 'NW'}, '210': {'stadt': 'pfarrkirchen', 'distance': 18.55876541590493, 'BL': 'BY'}, '211': {'stadt': 'paderborn', 'distance': 18.985448919948066, 'BL': 'NW'}, '212': {'stadt': 'dusseldorf', 'distance': 6.441157069304511, 'BL': 'NW'}, '213': {'stadt': 'hildburghausen', 'distance': 2.0689478326367805, 'BL': 'TH'}, '214': {'stadt': 'heidelberg', 'distance': 2.997535655270831, 'BL': 'SH'}, '215': {'stadt': 'tauberbischofsheim', 'distance': 16.91595631571402, 'BL': 'BW'}, '216': {'stadt': 'villingen-schwenningen', 'distance': 7.377969811519118, 'BL': 'BW'}, '217': {'stadt': 'remscheid', 'distance': 10.558182396603103, 'BL': 'NW'}, '218': {'stadt': 'oldenburg', 'distance': 6.076644647141058, 'BL': 'NI'}, '219': {'stadt': 'altenkirchen', 'distance': 58.9025881779887, 'BL': 'RP'}, '220': {'stadt': 'hamm', 'distance': 2.547259178966585, 'BL': 'NW'}, '221': {'stadt': 'bochum', 'distance': 1.3150910370620605, 'BL': 'NW'}, '222': {'stadt': 'bochum', 'distance': 1.1618495979953278, 'BL': 'NW'}, '223': {'stadt': 'meiningen', 'distance': 1.5852649059846757, 'BL': 'TH'}, '224': {'stadt': 'speyer', 'distance': 20.15265952386972, 'BL': 'RP'}, '225': {'stadt': 'dortmund', 'distance': 7.319351230101587, 'BL': 'NW'}, '226': {'stadt': 'osnabruck', 'distance': 19.00017362782119, 'BL': 'NI'}, '227': {'stadt': 'ravensburg', 'distance': 0.5925001215189337, 'BL': 'BW'}, '228': {'stadt': 'berlin', 'distance': 2.8262306283506264, 'BL': 'BE'}, '229': {'stadt': 'meschede', 'distance': 7.949704230850496, 'BL': 'NW'}, '230': {'stadt': 'hameln', 'distance': 14.579682728406965, 'BL': 'NI'}, '231': {'stadt': 'sonthofen', 'distance': 21.90266722529043, 'BL': 'BY'}, '232': {'stadt': 'meiningen', 'distance': 3.4766036484903906, 'BL': 'TH'}, '233': {'stadt': 'tauberbischofsheim', 'distance': 16.632389908359123, 'BL': 'BW'}, '234': {'stadt': 'oldenburg', 'distance': 6.202348606865668, 'BL': 'NI'}, '235': {'stadt': 'sonthofen', 'distance': 21.86180575947229, 'BL': 'BY'}, '236': {'stadt': 'donauworth', 'distance': 32.17570219657588, 'BL': 'BY'}, '237': {'stadt': 'schweinfurt', 'distance': 12.259289313784892, 'BL': 'BY'}, '238': {'stadt': 'meschede', 'distance': 33.241629177534655, 'BL': 'NW'}, '239': {'stadt': 'siegen', 'distance': 31.82927648782473, 'BL': 'NW'}, '240': {'stadt': 'halberstadt', 'distance': 14.105607407318539, 'BL': 'ST'}, '241': {'stadt': 'cham', 'distance': 4.033428395019279, 'BL': 'BY'}, '242': {'stadt': 'augsburg', 'distance': 3.8753525528961497, 'BL': 'BY'}, '243': {'stadt': 'munchen', 'distance': 3.2759148312336395, 'BL': 'BY'}, '244': {'stadt': 'lorrach', 'distance': 28.207499506243035, 'BL': 'BW'}, '245': {'stadt': 'badems', 'distance': 22.000403683839764, 'BL': 'RP'}, '246': {'stadt': 'koln', 'distance': 10.739942565486144, 'BL': 'NW'}, '247': {'stadt': 'heilbadheiligenstadt', 'distance': 17.124242513312236, 'BL': 'TH'}, '248': {'stadt': 'wurzburg', 'distance': 1.389440993826791, 'BL': 'BY'}, '249': {'stadt': 'berlin', 'distance': 4.726339543455115, 'BL': 'BE'}, '250': {'stadt': 'muhldorfaminn', 'distance': 1.0775552945836042, 'BL': 'BY'}, '251': {'stadt': 'dietzenbach', 'distance': 13.602236936802958, 'BL': 'HE'}, '252': {'stadt': 'munchen', 'distance': 3.5274461644500645, 'BL': 'BY'}, '253': {'stadt': 'paderborn', 'distance': 8.700964790900915, 'BL': 'NW'}, '254': {'stadt': 'ulm', 'distance': 6.15735938225912, 'BL': 'BW'}, '255': {'stadt': 'lorrach', 'distance': 22.32051268010081, 'BL': 'BW'}, '256': {'stadt': 'bielefeld', 'distance': 1.315905114848815, 'BL': 'NW'}, '257': {'stadt': 'munchen', 'distance': 1.9540281419060583, 'BL': 'BY'}, '258': {'stadt': 'bayreuth', 'distance': 24.116292814082957, 'BL': 'BY'}, '259': {'stadt': 'badhomburg', 'distance': 4.741951394037743, 'BL': 'SL'}, '260': {'stadt': 'marburg', 'distance': 27.773326773147545, 'BL': 'HE'}, '261': {'stadt': 'emmendingen', 'distance': 0.9966306334052026, 'BL': 'BW'}, '262': {'stadt': 'ludenscheid', 'distance': 11.28148594116011, 'BL': 'NW'}, '263': {'stadt': 'kassel', 'distance': 21.794720656096473, 'BL': 'HE'}, '264': {'stadt': 'lorrach', 'distance': 21.549588175299473, 'BL': 'BW'}, '265': {'stadt': 'landsbergamlech', 'distance': 0.8464201827737576, 'BL': 'BY'}, '266': {'stadt': 'koln', 'distance': 1.8238110075140297, 'BL': 'NW'}, '267': {'stadt': 'hofheimamtaunus', 'distance': 10.20465559518379, 'BL': 'HE'}, '268': {'stadt': 'suhl', 'distance': 0.7748249184036926, 'BL': 'TH'}, '269': {'stadt': 'koln', 'distance': 3.4358119163584484, 'BL': 'NW'}, '270': {'stadt': 'freyung', 'distance': 15.690122342021496, 'BL': 'BY'}, '271': {'stadt': 'nurnberg', 'distance': 2.4976279799067718, 'BL': 'BY'}, '272': {'stadt': 'beeskow', 'distance': 36.63914603177628, 'BL': 'BB'}, '273': {'stadt': 'paderborn', 'distance': 19.244278223678016, 'BL': 'NW'}, '274': {'stadt': 'mosbach', 'distance': 12.738208361978145, 'BL': 'BW'}, '275': {'stadt': 'munchen', 'distance': 7.257911624835911, 'BL': 'BY'}, '276': {'stadt': 'munchen', 'distance': 7.251934725032139, 'BL': 'BY'}, '277': {'stadt': 'neustadtanderwaldnaab', 'distance': 31.035372154843355, 'BL': 'BY'}, '278': {'stadt': 'homberg', 'distance': 24.63867662639691, 'BL': 'HE'}, '279': {'stadt': 'diepholz', 'distance': 20.074402438728644, 'BL': 'NI'}, '280': {'stadt': 'diepholz', 'distance': 19.91432935069953, 'BL': 'NI'}, '281': {'stadt': 'gera', 'distance': 2.280963185209606, 'BL': 'TH'}, '282': {'stadt': 'coburg', 'distance': 0.5566841246683244, 'BL': 'BY'}, '283': {'stadt': 'duisburg', 'distance': 3.5405713668416783, 'BL': 'NW'}, '284': {'stadt': 'ludwigsburg', 'distance': 6.711986166513312, 'BL': 'BW'}, '285': {'stadt': 'freyung', 'distance': 19.60917622179093, 'BL': 'BY'}, '286': {'stadt': 'fulda', 'distance': 15.340555288630776, 'BL': 'HE'}, '287': {'stadt': 'offenburg', 'distance': 1.717306974981427, 'BL': 'BW'}, '288': {'stadt': 'munchen', 'distance': 22.819211880406186, 'BL': 'BY'}, '289': {'stadt': 'badhersfeld', 'distance': 1.012304740332631, 'BL': 'HE'}, '290': {'stadt': 'cham', 'distance': 14.992718013459672, 'BL': 'BY'}, '291': {'stadt': 'cham', 'distance': 15.116932959871649, 'BL': 'BY'}, '292': {'stadt': 'worms', 'distance': 9.44863480730576, 'BL': 'RP'}, '293': {'stadt': 'klevendeich', 'distance': 23.12838615994652, 'BL': 'NW'}, '294': {'stadt': 'badhersfeld', 'distance': 1.429197955941679, 'BL': 'HE'}, '295': {'stadt': 'homberg', 'distance': 22.06540494687385, 'BL': 'HE'}, '296': {'stadt': 'homberg', 'distance': 22.517368917732867, 'BL': 'HE'}, '297': {'stadt': 'reutlingen', 'distance': 20.29849781942412, 'BL': 'BW'}, '298': {'stadt': 'goppingen', 'distance': 12.641913078634992, 'BL': 'BW'}, '299': {'stadt': 'badtolz', 'distance': 26.0603556203882, 'BL': 'BY'}, '300': {'stadt': 'erfurt', 'distance': 11.670262647473448, 'BL': 'TH'}, '301': {'stadt': 'koln', 'distance': 2.8647333532387464, 'BL': 'NW'}, '302': {'stadt': 'borken', 'distance': 1.0050721579910724, 'BL': 'NW'}, '303': {'stadt': 'erlangen', 'distance': 1.097478278657093, 'BL': 'BY'}, '304': {'stadt': 'erlangen', 'distance': 1.2580671511063493, 'BL': 'BY'}, '305': {'stadt': 'freiburg', 'distance': 37.71274419692893, 'BL': 'BW'}, '306': {'stadt': 'munchen', 'distance': 1.113076834023663, 'BL': 'BY'}, '307': {'stadt': 'annaberg-buchholz', 'distance': 6.541413665031425, 'BL': 'SN'}, '308': {'stadt': 'landshut', 'distance': 1.1064868267229857, 'BL': 'BY'}, '309': {'stadt': 'ulm', 'distance': 4.495777536616571, 'BL': 'BW'}, '310': {'stadt': 'gunzburg', 'distance': 2.126370315789348, 'BL': 'BY'}, '311': {'stadt': 'munchen', 'distance': 3.329246548815431, 'BL': 'BY'}, '312': {'stadt': 'sonthofen', 'distance': 21.795324207508674, 'BL': 'BY'}, '313': {'stadt': 'siegen', 'distance': 31.975156541004782, 'BL': 'NW'}, '314': {'stadt': 'reutlingen', 'distance': 0.1094643872917948, 'BL': 'BW'}, '315': {'stadt': 'badreichenhall', 'distance': 14.484376593547168, 'BL': 'BY'}, '316': {'stadt': 'ravensburg', 'distance': 18.280624897913675, 'BL': 'BW'}, '317': {'stadt': 'kitzingen', 'distance': 10.370347485732841, 'BL': 'BY'}, '318': {'stadt': 'munster', 'distance': 6.398787018263159, 'BL': 'NW'}, '319': {'stadt': 'bergheim', 'distance': 9.370016681421406, 'BL': 'NW'}, '320': {'stadt': 'munchen', 'distance': 4.286360310514497, 'BL': 'BY'}, '321': {'stadt': 'hamm', 'distance': 8.741311217867999, 'BL': 'NW'}, '322': {'stadt': 'recklinghausen', 'distance': 10.752621071624734, 'BL': 'NW'}, '323': {'stadt': 'saarbrucken', 'distance': 15.302415656635132, 'BL': 'SL'}, '324': {'stadt': 'parchim', 'distance': 25.95758272864039, 'BL': 'MV'}, '325': {'stadt': 'mannheim', 'distance': 0.7646729433177497, 'BL': 'BW'}, '326': {'stadt': 'neugiessenhagen', 'distance': 9.46304922815337, 'BL': 'HE'}, '327': {'stadt': 'hof', 'distance': 18.05454667005007, 'BL': 'BY'}, '328': {'stadt': 'naumburg', 'distance': 1.2520607228690885, 'BL': 'ST'}, '329': {'stadt': 'gotha', 'distance': 13.14632876595599, 'BL': 'TH'}, '330': {'stadt': 'meiningen', 'distance': 19.96959069207871, 'BL': 'TH'}, '331': {'stadt': 'munchen', 'distance': 3.725783020649492, 'BL': 'BY'}, '332': {'stadt': 'northeim', 'distance': 19.390408123636963, 'BL': 'NI'}, '333': {'stadt': 'lubeck', 'distance': 1.0623179736778736, 'BL': 'SH'}, '334': {'stadt': 'luneburg', 'distance': 1.9760362035038603, 'BL': 'NI'}, '335': {'stadt': 'schwandorf', 'distance': 26.583699834487554, 'BL': 'BY'}, '336': {'stadt': 'ingolstadt', 'distance': 4.145721145646951, 'BL': 'BY'}, '337': {'stadt': 'freudenstadt', 'distance': 12.111413565208526, 'BL': 'BW'}, '338': {'stadt': 'krefeld', 'distance': 1.506788244749112, 'BL': 'NW'}, '339': {'stadt': 'cham', 'distance': 0.2846897076369388, 'BL': 'BY'}, '340': {'stadt': 'heidelberg', 'distance': 2.1643845014075938, 'BL': 'SH'}, '341': {'stadt': 'meschede', 'distance': 22.97523724176313, 'BL': 'NW'}, '342': {'stadt': 'meschede', 'distance': 23.057128588375928, 'BL': 'NW'}, '343': {'stadt': 'cottbus', 'distance': 31.125020659624816, 'BL': 'BB'}, '344': {'stadt': 'oldenburg', 'distance': 4.096282672195039, 'BL': 'NI'}, '345': {'stadt': 'recklinghausen', 'distance': 1.4725152720917791, 'BL': 'NW'}, '346': {'stadt': 'euskirchen', 'distance': 16.22228298719467, 'BL': 'NW'}, '347': {'stadt': 'bielefeld', 'distance': 2.436177874007666, 'BL': 'NW'}, '348': {'stadt': 'bielefeld', 'distance': 2.2282926315649516, 'BL': 'NW'}, '349': {'stadt': 'forchheim', 'distance': 10.264478932186952, 'BL': 'BY'}, '350': {'stadt': 'bielefeld', 'distance': 3.7078796276445627, 'BL': 'NW'}, '351': {'stadt': 'koln', 'distance': 1.5372310120718835, 'BL': 'NW'}, '352': {'stadt': 'koln', 'distance': 1.599428190944876, 'BL': 'NW'}, '353': {'stadt': 'emmendingen', 'distance': 5.374862055661312, 'BL': 'BW'}, '354': {'stadt': 'essen', 'distance': 4.317520910811445, 'BL': 'NW'}, '355': {'stadt': 'neustadtanderwaldnaab', 'distance': 14.991054200175084, 'BL': 'BY'}, '356': {'stadt': 'hof', 'distance': 21.79951154870147, 'BL': 'BY'}, '357': {'stadt': 'bielefeld', 'distance': 3.387207091542392, 'BL': 'NW'}, '358': {'stadt': 'freyung', 'distance': 12.821244831502236, 'BL': 'BY'}, '359': {'stadt': 'koln', 'distance': 9.292145983319031, 'BL': 'NW'}, '360': {'stadt': 'badreichenhall', 'distance': 13.790291688592928, 'BL': 'BY'}, '361': {'stadt': 'delmenhorst', 'distance': 2.716213596674629, 'BL': 'NI'}, '362': {'stadt': 'coesfeld', 'distance': 1.826979799346751, 'BL': 'NW'}, '363': {'stadt': 'dortmund', 'distance': 16.414573973741295, 'BL': 'NW'}, '364': {'stadt': 'cham', 'distance': 15.502899055949234, 'BL': 'BY'}, '365': {'stadt': 'hofheimamtaunus', 'distance': 9.180095007588971, 'BL': 'HE'}, '366': {'stadt': 'heinsberg', 'distance': 1.847240725942284, 'BL': 'NW'}, '367': {'stadt': 'lubeck', 'distance': 1.072169419088735, 'BL': 'SH'}, '368': {'stadt': 'bielefeld', 'distance': 2.977800827867685, 'BL': 'NW'}, '369': {'stadt': 'neuburganderdonau', 'distance': 0.61669101427702, 'BL': 'BY'}, '370': {'stadt': 'solingen', 'distance': 6.208205740798977, 'BL': 'NW'}, '371': {'stadt': 'pfarrkirchen', 'distance': 18.738712346093667, 'BL': 'BY'}, '372': {'stadt': 'kempten', 'distance': 21.447136640569827, 'BL': 'BY'}, '373': {'stadt': 'fulda', 'distance': 1.5909411656840342, 'BL': 'HE'}, '374': {'stadt': 'neumunster', 'distance': 1.5386981744528543, 'BL': 'SH'}, '375': {'stadt': 'dusseldorf', 'distance': 3.9797584674611364, 'BL': 'NW'}, '376': {'stadt': 'bielefeld', 'distance': 1.064202191237607, 'BL': 'NW'}, '377': {'stadt': 'augsburg', 'distance': 3.7949379396384417, 'BL': 'BY'}, '378': {'stadt': 'frankfurt', 'distance': 3.850341807713313, 'BL': 'BB'}, '379': {'stadt': 'koln', 'distance': 0.8136336496728576, 'BL': 'NW'}, '380': {'stadt': 'hoxter', 'distance': 0.9192121492803631, 'BL': 'NW'}, '381': {'stadt': 'torgau', 'distance': 29.10859467347658, 'BL': 'SN'}, '382': {'stadt': 'kassel', 'distance': 33.971096199946494, 'BL': 'HE'}, '383': {'stadt': 'ansbach', 'distance': 12.918678428302005, 'BL': 'BY'}, '384': {'stadt': 'osnabruck', 'distance': 1.7805607205648337, 'BL': 'NI'}, '385': {'stadt': 'gross-gerau', 'distance': 11.575120275693896, 'BL': 'HE'}, '386': {'stadt': 'koln', 'distance': 1.6199653812591248, 'BL': 'NW'}, '387': {'stadt': 'lubeck', 'distance': 1.9283004591007167, 'BL': 'SH'}, '388': {'stadt': 'germersheim', 'distance': 19.97605338932399, 'BL': 'RP'}, '389': {'stadt': 'rastatt', 'distance': 13.13288415221408, 'BL': 'BW'}, '390': {'stadt': 'haldensleben', 'distance': 24.1399188022421, 'BL': 'ST'}, '391': {'stadt': 'cham', 'distance': 15.463848350103824, 'BL': 'BY'}, '392': {'stadt': 'duren', 'distance': 12.214385769813777, 'BL': 'NW'}, '393': {'stadt': 'herford', 'distance': 6.676870114500282, 'BL': 'NW'}, '394': {'stadt': 'herford', 'distance': 6.5741079094226995, 'BL': 'NW'}, '395': {'stadt': 'herford', 'distance': 7.058346849168346, 'BL': 'NW'}, '396': {'stadt': 'koln', 'distance': 0.7313191759508495, 'BL': 'NW'}, '397': {'stadt': 'badneuenahr-ahrweiler', 'distance': 8.647220549729365, 'BL': 'RP'}, '398': {'stadt': 'kempten', 'distance': 1.9728266210552525, 'BL': 'BY'}, '399': {'stadt': 'ratzeburg', 'distance': 1.9636460364907489, 'BL': 'SH'}, '400': {'stadt': 'offenburg', 'distance': 7.176394743902776, 'BL': 'BW'}, '401': {'stadt': 'ludwigsburg', 'distance': 1.434800041367605, 'BL': 'BW'}, '402': {'stadt': 'hameln', 'distance': 16.18711705291238, 'BL': 'NI'}, '403': {'stadt': 'erbach', 'distance': 9.889225612212805, 'BL': 'HE'}, '404': {'stadt': 'erbach', 'distance': 9.918348503339374, 'BL': 'HE'}, '405': {'stadt': 'badhomburg', 'distance': 17.59430770126813, 'BL': 'SL'}, '406': {'stadt': 'birkenfeld', 'distance': 8.389546249199178, 'BL': 'RP'}, '407': {'stadt': 'sigmaringen', 'distance': 2.0926429724230133, 'BL': 'BW'}, '408': {'stadt': 'ravensburg', 'distance': 0.6108186602745053, 'BL': 'BW'}, '409': {'stadt': 'torgau', 'distance': 22.51990403308968, 'BL': 'SN'}, '410': {'stadt': 'wurzburg', 'distance': 1.9232337446579164, 'BL': 'BY'}, '411': {'stadt': 'wurzburg', 'distance': 2.5815636637145967, 'BL': 'BY'}, '412': {'stadt': 'saarlouis', 'distance': 9.988178858581012, 'BL': 'SL'}, '413': {'stadt': 'homberg', 'distance': 24.547189645057898, 'BL': 'HE'}, '414': {'stadt': 'saalfeld', 'distance': 11.44730910692434, 'BL': 'TH'}, '415': {'stadt': 'siegburg', 'distance': 3.7330050919655666, 'BL': 'NW'}, '416': {'stadt': 'emmendingen', 'distance': 9.397154314909203, 'BL': 'BW'}, '417': {'stadt': 'laufanderpegnitz', 'distance': 7.830244153578772, 'BL': 'BY'}, '418': {'stadt': 'wurzburg', 'distance': 1.512238485879098, 'BL': 'BY'}, '419': {'stadt': 'dusseldorf', 'distance': 9.382044686522711, 'BL': 'NW'}, '420': {'stadt': 'dusseldorf', 'distance': 3.191937934270641, 'BL': 'NW'}, '421': {'stadt': 'frankfurt', 'distance': 3.7147089594570883, 'BL': 'BB'}, '422': {'stadt': 'recklinghausen', 'distance': 7.275334077969031, 'BL': 'NW'}, '423': {'stadt': 'dusseldorf', 'distance': 6.203246262510715, 'BL': 'NW'}, '424': {'stadt': 'dusseldorf', 'distance': 10.191441851412783, 'BL': 'NW'}, '425': {'stadt': 'freudenstadt', 'distance': 20.294108407021227, 'BL': 'BW'}, '426': {'stadt': 'freudenstadt', 'distance': 20.317954512330758, 'BL': 'BW'}, '427': {'stadt': 'heinsberg', 'distance': 15.975127442936198, 'BL': 'NW'}, '428': {'stadt': 'stadtneumarktinderoberpfalz', 'distance': 23.363552955604195, 'BL': 'BY'}, '429': {'stadt': 'tauberbischofsheim', 'distance': 16.132941234972122, 'BL': 'BW'}, '430': {'stadt': 'koln', 'distance': 10.311253776456626, 'BL': 'NW'}, '431': {'stadt': 'munchen', 'distance': 4.558807805061904, 'BL': 'BY'}, '432': {'stadt': 'munchen', 'distance': 8.995267356075722, 'BL': 'BY'}, '433': {'stadt': 'neubrandenburg', 'distance': 53.41384073435059, 'BL': 'MV'}, '434': {'stadt': 'essen', 'distance': 5.274524352440329, 'BL': 'NW'}, '435': {'stadt': 'altotting', 'distance': 0.6412634960656516, 'BL': 'BY'}, '436': {'stadt': 'nurnberg', 'distance': 0.7974637881552884, 'BL': 'BY'}, '437': {'stadt': 'heilbronn', 'distance': 0.971399994127633, 'BL': 'BW'}, '438': {'stadt': 'hameln', 'distance': 14.675880900561248, 'BL': 'NI'}, '439': {'stadt': 'duisburg', 'distance': 4.227630503373095, 'BL': 'NW'}, '440': {'stadt': 'haldensleben', 'distance': 24.941618285486527, 'BL': 'ST'}, '441': {'stadt': 'munchen', 'distance': 2.254058852925305, 'BL': 'BY'}, '442': {'stadt': 'lindau', 'distance': 0.5270737151705301, 'BL': 'BY'}, '443': {'stadt': 'frankfurt', 'distance': 3.707080084881484, 'BL': 'BB'}, '444': {'stadt': 'hagen', 'distance': 15.899987570372529, 'BL': 'NW'}, '445': {'stadt': 'goppingen', 'distance': 19.01677340302461, 'BL': 'BW'}, '446': {'stadt': 'cloppenburg', 'distance': 21.22767099008181, 'BL': 'NI'}, '447': {'stadt': 'schwelm', 'distance': 4.315527734069198, 'BL': 'NW'}, '448': {'stadt': 'marburg', 'distance': 2.635616983859331, 'BL': 'HE'}, '449': {'stadt': 'marburg', 'distance': 1.1001211616570148, 'BL': 'HE'}, '450': {'stadt': 'ravensburg', 'distance': 19.800165990764544, 'BL': 'BW'}, '451': {'stadt': 'erlangen', 'distance': 1.1233975587729412, 'BL': 'BY'}, '452': {'stadt': 'gummersbach', 'distance': 2.380173498514589, 'BL': 'NW'}, '453': {'stadt': 'detmold', 'distance': 11.860577272673556, 'BL': 'NW'}, '454': {'stadt': 'burgdorf', 'distance': 8.07432149503264, 'BL': 'ST'}, '455': {'stadt': 'freudenstadt', 'distance': 23.191940003466392, 'BL': 'BW'}, '456': {'stadt': 'badhomburg', 'distance': 1.521390825247435, 'BL': 'SL'}, '457': {'stadt': 'dusseldorf', 'distance': 4.274405724622863, 'BL': 'NW'}, '458': {'stadt': 'detmold', 'distance': 0.9592031753423202, 'BL': 'NW'}, '459': {'stadt': 'aachen', 'distance': 8.4602212139433, 'BL': 'NW'}, '460': {'stadt': 'koln', 'distance': 1.5374811204289973, 'BL': 'NW'}, '461': {'stadt': 'dortmund', 'distance': 1.951965843592199, 'BL': 'NW'}, '462': {'stadt': 'minden', 'distance': 11.254450413754073, 'BL': 'NW'}, '463': {'stadt': 'koln', 'distance': 4.469252083733911, 'BL': 'NW'}, '464': {'stadt': 'dachau', 'distance': 13.16922284699481, 'BL': 'BY'}, '465': {'stadt': 'garmisch-partenkirchen', 'distance': 20.690978131197713, 'BL': 'BY'}, '466': {'stadt': 'heidelberg', 'distance': 2.448391336566679, 'BL': 'SH'}, '467': {'stadt': 'heidelberg', 'distance': 2.4537576527345935, 'BL': 'SH'}, '468': {'stadt': 'heidelberg', 'distance': 2.4596768282921717, 'BL': 'SH'}, '469': {'stadt': 'pforzheim', 'distance': 15.841101254838442, 'BL': 'BW'}, '470': {'stadt': 'stadthagen', 'distance': 9.257218382474758, 'BL': 'NI'}, '471': {'stadt': 'badhersfeld', 'distance': 32.03151910821815, 'BL': 'HE'}, '472': {'stadt': 'badhomburg', 'distance': 17.523702226906014, 'BL': 'SL'}, '473': {'stadt': 'bonn', 'distance': 4.492218180704242, 'BL': 'NW'}, '474': {'stadt': 'schwelm', 'distance': 9.800364045578283, 'BL': 'NW'}, '475': {'stadt': 'munchen', 'distance': 4.554113059008259, 'BL': 'BY'}, '476': {'stadt': 'tauberbischofsheim', 'distance': 17.02967696412503, 'BL': 'BW'}, '477': {'stadt': 'munchen', 'distance': 1.978121429427055, 'BL': 'BY'}, '478': {'stadt': 'hannover', 'distance': 4.72134130977133, 'BL': 'NI'}, '479': {'stadt': 'ratzeburg', 'distance': 22.002982092147885, 'BL': 'SH'}, '480': {'stadt': 'pforzheim', 'distance': 0.9412014500843978, 'BL': 'BW'}, '481': {'stadt': 'badneuenahr-ahrweiler', 'distance': 13.546512028791543, 'BL': 'RP'}, '482': {'stadt': 'badreichenhall', 'distance': 14.707880397381436, 'BL': 'BY'}, '483': {'stadt': 'bremen', 'distance': 13.27220892875572, 'BL': 'HB'}, '484': {'stadt': 'kassel', 'distance': 0.7791092006381275, 'BL': 'HE'}, '485': {'stadt': 'lorrach', 'distance': 20.68282100552345, 'BL': 'BW'}, '486': {'stadt': 'herzberg', 'distance': 21.48768764548478, 'BL': 'BB'}, '487': {'stadt': 'badneuenahr-ahrweiler', 'distance': 10.024682642161808, 'BL': 'RP'}, '488': {'stadt': 'sigmaringen', 'distance': 21.24955498880469, 'BL': 'BW'}, '489': {'stadt': 'pirna', 'distance': 15.948455740010374, 'BL': 'SN'}, '490': {'stadt': 'bamberg', 'distance': 1.8180382589434292, 'BL': 'BY'}, '491': {'stadt': 'bochum', 'distance': 0.5848747973392012, 'BL': 'NW'}, '492': {'stadt': 'dusseldorf', 'distance': 4.261774297714015, 'BL': 'NW'}, '493': {'stadt': 'heinsberg', 'distance': 16.065546462232128, 'BL': 'NW'}, '494': {'stadt': 'celle', 'distance': 1.4222324086327982, 'BL': 'NI'}, '495': {'stadt': 'memmingen', 'distance': 0.22501419566647635, 'BL': 'BY'}, '496': {'stadt': 'ludenscheid', 'distance': 3.1554719499566835, 'BL': 'NW'}, '497': {'stadt': 'bonn', 'distance': 3.5564086795000756, 'BL': 'NW'}, '498': {'stadt': 'bonn', 'distance': 3.5608602820643296, 'BL': 'NW'}, '499': {'stadt': 'bonn', 'distance': 3.5653005461941776, 'BL': 'NW'}, '500': {'stadt': 'bonn', 'distance': 3.2430049311052467, 'BL': 'NW'}, '501': {'stadt': 'bonn', 'distance': 3.239666895293879, 'BL': 'NW'}, '502': {'stadt': 'bonn', 'distance': 3.233463313760655, 'BL': 'NW'}, '503': {'stadt': 'bonn', 'distance': 3.2363288605028524, 'BL': 'NW'}, '504': {'stadt': 'bonn', 'distance': 3.4897982784262935, 'BL': 'NW'}, '505': {'stadt': 'bonn', 'distance': 3.4313556918317647, 'BL': 'NW'}, '506': {'stadt': 'bonn', 'distance': 3.4274412545533592, 'BL': 'NW'}, '507': {'stadt': 'bonn', 'distance': 3.419964651782523, 'BL': 'NW'}, '508': {'stadt': 'bonn', 'distance': 3.416055438913652, 'BL': 'NW'}, '509': {'stadt': 'bonn', 'distance': 3.46043398206197, 'BL': 'NW'}, '510': {'stadt': 'bonn', 'distance': 3.4557887767072013, 'BL': 'NW'}, '511': {'stadt': 'bonn', 'distance': 3.4511324938250527, 'BL': 'NW'}, '512': {'stadt': 'bonn', 'distance': 3.3805534212178596, 'BL': 'NW'}, '513': {'stadt': 'bonn', 'distance': 3.3709488218668895, 'BL': 'NW'}, '514': {'stadt': 'bonn', 'distance': 3.3741467484706607, 'BL': 'NW'}, '515': {'stadt': 'bonn', 'distance': 3.377355476783517, 'BL': 'NW'}, '516': {'stadt': 'bonn', 'distance': 3.7915878994455734, 'BL': 'NW'}, '517': {'stadt': 'passau', 'distance': 21.119350201148997, 'BL': 'BY'}, '518': {'stadt': 'wismar', 'distance': 2.524197953272704, 'BL': 'MV'}, '519': {'stadt': 'wismar', 'distance': 2.591445813538958, 'BL': 'MV'}, '520': {'stadt': 'wismar', 'distance': 2.486297063236878, 'BL': 'MV'}, '521': {'stadt': 'wismar', 'distance': 2.4991694618807223, 'BL': 'MV'}, '522': {'stadt': 'wismar', 'distance': 2.509909872238384, 'BL': 'MV'}, '523': {'stadt': 'wismar', 'distance': 2.4701624949524703, 'BL': 'MV'}, '524': {'stadt': 'leipzig', 'distance': 13.7089283098824, 'BL': 'SN'}, '525': {'stadt': 'stuttgart', 'distance': 12.610080617408059, 'BL': 'BW'}, '526': {'stadt': 'dresden', 'distance': 2.1399404034102028, 'BL': 'SN'}, '527': {'stadt': 'duisburg', 'distance': 8.01155380426237, 'BL': 'NW'}, '528': {'stadt': 'duisburg', 'distance': 3.716694328745377, 'BL': 'NW'}, '529': {'stadt': 'osnabruck', 'distance': 4.144138983832619, 'BL': 'NI'}, '530': {'stadt': 'bamberg', 'distance': 17.52766440673717, 'BL': 'BY'}, '531': {'stadt': 'eisenach', 'distance': 0.9663880133782544, 'BL': 'TH'}, '532': {'stadt': 'dachau', 'distance': 11.199081542777565, 'BL': 'BY'}}\n"
     ]
    }
   ],
   "source": [
    "print(mapping_dict)"
   ]
  },
  {
   "cell_type": "markdown",
   "metadata": {},
   "source": [
    "## Check how many hospitals are assigned for each BL"
   ]
  },
  {
   "cell_type": "code",
   "execution_count": 13,
   "metadata": {},
   "outputs": [
    {
     "name": "stdout",
     "output_type": "stream",
     "text": [
      "{'SN': 10, 'RP': 16, 'BY': 152, 'TH': 15, 'BW': 65, 'NI': 31, 'HE': 36, 'NW': 144, 'HH': 1, 'BB': 17, 'SH': 18, 'ST': 8, 'SL': 8, 'BE': 3, 'MV': 8, 'HB': 1}\n"
     ]
    }
   ],
   "source": [
    "kh_per_bl = {}\n",
    "for key in mapping_dict:\n",
    "    curr_bl = mapping_dict[key]['BL']\n",
    "    if curr_bl not in kh_per_bl:\n",
    "        kh_per_bl[curr_bl] = 1\n",
    "    else:\n",
    "        kh_per_bl[curr_bl] += 1\n",
    "print(kh_per_bl)"
   ]
  },
  {
   "cell_type": "markdown",
   "metadata": {},
   "source": [
    "## Get hospitals per city"
   ]
  },
  {
   "cell_type": "code",
   "execution_count": 15,
   "metadata": {},
   "outputs": [],
   "source": [
    "get_cities_kh = {}\n",
    "for key in mapping_dict:\n",
    "    curr_city = mapping_dict[key]['stadt']\n",
    "    if curr_city not in get_cities_kh:\n",
    "        get_cities_kh[curr_city] = 1\n",
    "    else:\n",
    "        get_cities_kh[curr_city] += 1"
   ]
  },
  {
   "cell_type": "markdown",
   "metadata": {},
   "source": [
    "# Get number of cities per BL & Einwohner per BL"
   ]
  },
  {
   "cell_type": "code",
   "execution_count": 16,
   "metadata": {},
   "outputs": [],
   "source": [
    "BL_list = ['BW','BY','BE','BB','HB','HH','HE','MV','NI','NW','RP','SL','SN','ST','SH','TH']"
   ]
  },
  {
   "cell_type": "code",
   "execution_count": 17,
   "metadata": {},
   "outputs": [],
   "source": [
    "# Get mega dictionary with all relevant information per BL\n",
    "\n",
    "pop_list = []\n",
    "overall_pop_list = []\n",
    "ratio_list = []\n",
    "cities = []\n",
    "positions = []\n",
    "nr_kh_per_city = []\n",
    "\n",
    "\n",
    "for index, bl in enumerate(BL_list):\n",
    "    curr_data = full_data.loc[full_data['BL'] == bl]\n",
    "    curr_pop_list = np.array(list(curr_data['population']))\n",
    "    pop_list.append(curr_pop_list)\n",
    "    overall_pop = sum(curr_pop_list)\n",
    "    overall_pop_list.append(overall_pop)\n",
    "    curr_ratio_list = curr_pop_list/overall_pop\n",
    "    ratio_list.append(curr_ratio_list)\n",
    "    curr_cities = np.array(list(curr_data['stadt']))\n",
    "    cities.append(curr_cities)\n",
    "    curr_latitude = np.array(list(curr_data['latitude']))\n",
    "    curr_longitude = np.array(list(curr_data['longitude']))\n",
    "    zpd = list(zip(curr_latitude,curr_longitude))\n",
    "    positions.append(zpd)\n",
    "    \n",
    "    mylist = []\n",
    "    for elm in curr_cities:\n",
    "        if elm in get_cities_kh:\n",
    "            curr_nr_kh_per_city = get_cities_kh[elm]\n",
    "        else:\n",
    "            curr_nr_kh_per_city = 0\n",
    "        mylist.append(curr_nr_kh_per_city)\n",
    "    nr_kh_per_city.append(mylist)"
   ]
  },
  {
   "cell_type": "code",
   "execution_count": 18,
   "metadata": {},
   "outputs": [],
   "source": [
    "zpd_mega = list(zip(pop_list,ratio_list,cities,positions,nr_kh_per_city))"
   ]
  },
  {
   "cell_type": "code",
   "execution_count": 19,
   "metadata": {},
   "outputs": [],
   "source": [
    "mega_bl_dict = {} \n",
    "for key in BL_list: \n",
    "    for index, value in enumerate(zpd_mega): \n",
    "        mega_bl_dict[key] = {\n",
    "            \"pop_insges\": overall_pop_list[index],\n",
    "            \"pop_list\": value[0],\n",
    "            \"pop_ratio\": value[1],\n",
    "            \"city\": value[2],\n",
    "            \"nr_kh_per_city\": value[4],\n",
    "            \"city_positions\": value[3]\n",
    "        }\n",
    "        zpd_mega.remove(value) \n",
    "        break "
   ]
  },
  {
   "cell_type": "code",
   "execution_count": 34,
   "metadata": {},
   "outputs": [
    {
     "name": "stdout",
     "output_type": "stream",
     "text": [
      "{'BW': {'pop_insges': 8544640, 'pop_list': array([314002,  54802, 199742,  39164, 158397, 165383, 213920, 262795,\n",
      "       117935, 216227, 257253, 132472, 464890, 729018, 285325,  11201,\n",
      "       228639, 543984, 309626, 143535, 429479, 319271, 231018, 284285,\n",
      "       286748, 139455, 195861, 130873, 591688, 132321, 316792, 212381,\n",
      "       426158]), 'pop_ratio': array([0.03674842, 0.00641361, 0.02337629, 0.00458346, 0.01853759,\n",
      "       0.01935517, 0.02503558, 0.03075554, 0.01380222, 0.02530557,\n",
      "       0.03010694, 0.01550352, 0.05440721, 0.08531875, 0.03339228,\n",
      "       0.00131088, 0.02675818, 0.06366377, 0.03623628, 0.01679825,\n",
      "       0.05026297, 0.03736506, 0.0270366 , 0.03327056, 0.03355882,\n",
      "       0.01632076, 0.02292209, 0.01531639, 0.06924669, 0.01548585,\n",
      "       0.03707494, 0.02485546, 0.04987431]), 'city': array(['aalen', 'baden-baden', 'biberachanderriss', 'boblingen', 'calw',\n",
      "       'emmendingen', 'freiburg', 'freiburgimbreisgau', 'freudenstadt',\n",
      "       'friedrichshafen', 'goppingen', 'heidenheimanderbrenz',\n",
      "       'heilbronn', 'karlsruhe', 'konstanz', 'kunzelsau', 'lorrach',\n",
      "       'ludwigsburg', 'mannheim', 'mosbach', 'offenburg', 'pforzheim',\n",
      "       'rastatt', 'ravensburg', 'reutlingen', 'rottweil',\n",
      "       'schwabischhall', 'sigmaringen', 'stuttgart', 'tauberbischofsheim',\n",
      "       'ulm', 'villingen-schwenningen', 'waiblingen'], dtype='<U22'), 'nr_kh_per_city': [17, 3, 11, 3, 9, 9, 12, 14, 7, 12, 14, 7, 25, 39, 15, 1, 12, 29, 17, 8, 23, 17, 13, 15, 16, 8, 11, 7, 32, 7, 17, 12, 23], 'city_positions': [(48.833333, 10.1), (48.75, 8.25), (48.1, 9.8), (48.683333000000005, 9.016667), (48.716667, 8.733333), (48.133333, 7.85), (48.0, 7.85), (48.0, 7.85), (48.433333000000005, 8.416667), (47.65, 9.483333), (48.7, 9.666667), (48.683333000000005, 10.15), (49.140278, 9.22), (49.004721999999994, 8.385833), (47.666667, 9.183333), (49.281944, 9.688889), (47.616288, 7.664842), (48.9, 9.183333), (49.488333000000004, 8.464722), (49.353889, 9.142778), (48.483333, 7.933333), (48.883333, 8.7), (48.85, 8.2), (47.783333, 9.616667), (48.483333, 9.216667), (48.166667, 8.616667), (49.105833000000004, 9.734167), (48.083333, 9.216667), (48.766667, 9.183333), (49.624722, 9.662778), (48.4, 10.0), (48.066666999999995, 8.45), (48.833333, 9.3)]}, 'BY': {'pop_insges': 8544640, 'pop_list': array([ 133596,   11121,  147982,  224771,  243456,  513376,  103218,\n",
      "          7969,  105722,  127227,  217557,  178496,  127882,  129319,\n",
      "        153884,  119326,   96021,   96217,  133496,  142142,  132341,\n",
      "         13766,  239052,  116099,  179116,   78355,   21932,  112959,\n",
      "         88467,  125747,  144664,  120598,  126365,   43454,  122258,\n",
      "         61800,   90909,   67135,   71845,  120071,  219829,  170365,\n",
      "         66838,   81669,  140316,   41210,   99726,  128756,   11525,\n",
      "       1804871,    1742,    9668,  100364,   94352,  515201,  243134,\n",
      "        127151,  120659,  344466,   77656,  321751,  126958,   38921,\n",
      "        147189,  169907,  155362,  133561,   44504,   84599,  134499,\n",
      "        117387]), 'pop_ratio': array([1.21851390e-02, 1.01433375e-03, 1.34972697e-02, 2.05011070e-02,\n",
      "       2.22053445e-02, 4.68244404e-02, 9.41439624e-03, 7.26843415e-04,\n",
      "       9.64278323e-03, 1.16042298e-02, 1.98431262e-02, 1.62804169e-02,\n",
      "       1.16639716e-02, 1.17950387e-02, 1.40355844e-02, 1.08835886e-02,\n",
      "       8.75796607e-03, 8.77584300e-03, 1.21760181e-02, 1.29646100e-02,\n",
      "       1.20706719e-02, 1.25558118e-03, 2.18036607e-02, 1.05892576e-02,\n",
      "       1.63369664e-02, 7.14667032e-03, 2.00039275e-03, 1.03028618e-02,\n",
      "       8.06897433e-03, 1.14692407e-02, 1.31946387e-02, 1.09996063e-02,\n",
      "       1.15256078e-02, 3.96338986e-03, 1.11510130e-02, 5.63670763e-03,\n",
      "       8.29170637e-03, 6.12330690e-03, 6.55290064e-03, 1.09515392e-02,\n",
      "       2.00503528e-02, 1.55387977e-02, 6.09621787e-03, 7.44893649e-03,\n",
      "       1.27980626e-02, 3.75871717e-03, 9.09589490e-03, 1.17436881e-02,\n",
      "       1.05118213e-03, 1.64620229e-01, 1.58885836e-04, 8.81807271e-04,\n",
      "       9.15408615e-03, 8.60573848e-03, 4.69908965e-02, 2.21759753e-02,\n",
      "       1.15972979e-02, 1.10051700e-02, 3.14183516e-02, 7.08291533e-03,\n",
      "       2.93465423e-02, 1.15796946e-02, 3.54994009e-03, 1.34249411e-02,\n",
      "       1.54970240e-02, 1.41703911e-02, 1.21819467e-02, 4.05915916e-03,\n",
      "       7.71617845e-03, 1.22675006e-02, 1.07067346e-02]), 'city': array(['aichach', 'altotting', 'amberg', 'ansbach', 'aschaffenburg',\n",
      "       'augsburg', 'badkissingen', 'badneustadtandersaale',\n",
      "       'badreichenhall', 'badtolz', 'bamberg', 'bayreuth', 'cham',\n",
      "       'coburg', 'dachau', 'deggendorf', 'dillingenanderdonau',\n",
      "       'dingolfing', 'donauworth', 'ebersberg', 'eichstatt', 'erding',\n",
      "       'erlangen', 'forchheim', 'freising', 'freyung', 'furstenfeldbruck',\n",
      "       'furth', 'garmisch-partenkirchen', 'gunzburg', 'hof', 'ingolstadt',\n",
      "       'karlstadt', 'kaufbeuren', 'kelheim', 'kempten', 'kitzingen',\n",
      "       'kronach', 'kulmbach', 'landsbergamlech', 'landshut',\n",
      "       'laufanderpegnitz', 'lichtenfels', 'lindau', 'marktoberdorf',\n",
      "       'memmingen', 'miesbach', 'miltenberg', 'muhldorfaminn', 'munchen',\n",
      "       'neu-ulm', 'neuburganderdonau', 'neustadtanderaisch',\n",
      "       'neustadtanderwaldnaab', 'nurnberg', 'passau',\n",
      "       'pfaffenhofenanderilm', 'pfarrkirchen', 'regensburg', 'regenstauf',\n",
      "       'rosenheim', 'roth', 'schwabach', 'schwandorf', 'schweinfurt',\n",
      "       'sonthofen', 'stadtneumarktinderoberpfalz', 'straubing',\n",
      "       'westheimbeihassfurt', 'wurzburg', 'zirndorf'], dtype='<U27'), 'nr_kh_per_city': [7, 3, 7, 11, 12, 24, 5, 1, 5, 6, 11, 9, 7, 7, 8, 6, 5, 5, 7, 7, 7, 1, 12, 6, 9, 4, 3, 6, 5, 6, 7, 6, 6, 3, 6, 3, 5, 4, 4, 6, 11, 8, 4, 4, 7, 2, 5, 6, 1, 85, 1, 1, 5, 5, 24, 12, 6, 6, 17, 4, 15, 6, 2, 7, 8, 8, 7, 3, 4, 14, 6], 'city_positions': [(48.466667, 11.133333), (48.233333, 12.683333), (49.441389, 11.862222000000001), (49.3, 10.583333), (49.973889, 9.149167), (48.366667, 10.883333), (50.2, 10.083333), (50.333333, 10.216667), (47.733333, 12.883333), (47.766667, 11.566667), (49.866667, 10.866667), (49.948056, 11.578333), (49.225556, 12.663611), (50.25, 10.966667), (48.266667, 11.433333), (48.833333, 12.966667), (48.566666999999995, 10.483333), (48.633333, 12.5), (48.7, 10.8), (48.083333, 11.966667), (48.883333, 11.183333), (48.3, 11.933333), (49.589721999999995, 11.003889), (49.723056, 11.066944), (48.4, 11.733333), (48.8, 13.55), (48.183333000000005, 11.25), (49.466667, 10.966667), (47.5, 11.1), (48.45, 10.266667), (50.316666999999995, 11.916667), (48.766667, 11.433333), (49.960278, 9.772222), (47.883333, 10.616667), (48.916667, 11.866667), (47.716667, 10.316667), (49.733333, 10.166667), (50.233333, 11.316667), (50.1, 11.45), (48.05, 10.866667), (48.533333, 12.15), (49.510278, 11.2775), (50.15, 11.066667), (47.55, 9.683333), (47.783333, 10.616667), (47.983333, 10.166667), (47.783333, 11.833333), (49.703889000000004, 9.264444000000001), (48.25, 12.533333), (48.1371079, 11.575382199999998), (48.4, 10.016667), (48.733333, 11.183333), (49.583333, 10.6), (49.731389, 12.173333), (49.453872, 11.077297999999999), (48.583333, 13.483332999999998), (48.533333, 11.516667), (48.433333000000005, 12.933333), (49.015, 12.095556), (49.121666999999995, 12.129167), (47.85, 12.133333), (49.245, 11.091111), (49.329167, 11.025556), (49.326389, 12.109722), (50.05, 10.233333), (47.516667, 10.283333), (49.280278, 11.462778), (48.883333, 12.566667), (49.983333, 10.5), (49.787778, 9.936111), (49.45, 10.95)]}, 'BE': {'pop_insges': 8544640, 'pop_list': array([3398362]), 'pop_ratio': array([1.]), 'city': array(['berlin'], dtype='<U6'), 'nr_kh_per_city': [163], 'city_positions': [(52.516667000000005, 13.4)]}, 'BB': {'pop_insges': 8544640, 'pop_list': array([178658, 115246,  18276, 648034, 102638, 169067,  99078, 211249,\n",
      "        76508, 145291, 161909, 194328, 110476]), 'pop_ratio': array([0.08008847, 0.05166226, 0.00819273, 0.29049946, 0.04601037,\n",
      "       0.07578904, 0.0444145 , 0.0946983 , 0.03429686, 0.06513078,\n",
      "       0.07258026, 0.08711299, 0.04952397]), 'city': array(['beeskow', 'cottbus', 'eberswalde', 'frankfurt', 'herzberg',\n",
      "       'lubbenau', 'neuruppin', 'oranienburg', 'perleberg', 'potsdam',\n",
      "       'rathenow', 'seelow', 'senftenberg'], dtype='<U11'), 'nr_kh_per_city': [8, 5, 1, 27, 5, 7, 5, 9, 4, 6, 7, 8, 5], 'city_positions': [(52.166667, 14.25), (51.766667, 14.333332999999998), (52.833332999999996, 13.833332999999998), (50.11253738, 8.68799305), (51.65, 10.333333), (51.866667, 13.966667000000001), (52.933333, 12.8), (52.75, 13.233332999999998), (53.066667, 11.866667), (52.4, 13.066667), (52.6, 12.333333), (52.516667000000005, 14.383332999999999), (51.516667, 14.016667000000002)]}, 'HB': {'pop_insges': 8544640, 'pop_list': array([546429, 119688]), 'pop_ratio': array([0.82031985, 0.17968015]), 'city': array(['bremen', 'bremerhaven'], dtype='<U11'), 'nr_kh_per_city': [22, 5], 'city_positions': [(53.083332999999996, 8.8), (53.55, 8.583333)]}, 'HH': {'pop_insges': 8544640, 'pop_list': array([1733846]), 'pop_ratio': array([1.]), 'city': array(['hamburg'], dtype='<U7'), 'nr_kh_per_city': [115], 'city_positions': [(53.55, 10.0)]}, 'HE': {'pop_insges': 8544640, 'pop_list': array([120829, 236564, 187157, 437156, 354092,  96798, 222584,  41895,\n",
      "       274526, 269694, 237735, 180222, 429750, 172083, 246648, 268876,\n",
      "       120641, 253777, 272337]), 'pop_ratio': array([0.02731609, 0.05348056, 0.04231101, 0.09882886, 0.08005039,\n",
      "       0.02188334, 0.05032007, 0.0094713 , 0.06206272, 0.06097034,\n",
      "       0.05374529, 0.0407432 , 0.09715456, 0.0389032 , 0.05576028,\n",
      "       0.06078541, 0.02727359, 0.05737195, 0.06156785]), 'city': array(['badhersfeld', 'badhomburgvorderhohe', 'badschwalbach',\n",
      "       'darmstadt', 'dietzenbach', 'erbach', 'fulda', 'gelnhausen',\n",
      "       'gross-gerau', 'heppenheim', 'hofheimamtaunus', 'homberg',\n",
      "       'kassel', 'limburganderlahn', 'marburg', 'neugiessenhagen',\n",
      "       'offenbach', 'wetzlar', 'wiesbaden'], dtype='<U20'), 'nr_kh_per_city': [8, 15, 12, 28, 22, 6, 14, 3, 18, 17, 15, 12, 27, 11, 16, 17, 8, 16, 17], 'city_positions': [(50.866667, 9.7), (50.216667, 8.616667), (50.133333, 8.066667), (49.870556, 8.649444), (50.016667, 8.783333), (49.656110999999996, 8.996389), (50.55, 9.666667), (50.2, 9.183333), (49.923889, 8.493611), (49.640833, 8.637222), (50.083333, 8.45), (51.033333, 9.4), (51.316666999999995, 9.5), (50.383333, 8.05), (50.816666999999995, 8.766667), (53.233332999999995, 12.183333), (50.1, 8.766667), (50.55, 8.5), (50.083333, 8.25)]}, 'MV': {'pop_insges': 8544640, 'pop_list': array([215113,  25913, 212618, 196833,  96329, 156729]), 'pop_ratio': array([0.23807932, 0.02867958, 0.23531795, 0.21784768, 0.10661347,\n",
      "       0.17346201]), 'city': array(['gustrow', 'neubrandenburg', 'parchim', 'rostock', 'schwerin',\n",
      "       'wismar'], dtype='<U14'), 'nr_kh_per_city': [17, 2, 16, 15, 8, 12], 'city_positions': [(53.8, 12.166667), (53.566667, 13.266667000000002), (53.433333, 11.85), (54.083332999999996, 12.133333), (53.63333299999999, 11.383333), (53.9, 11.466667)]}, 'NI': {'pop_insges': 8544640, 'pop_list': array([ 189848,  248023,  178936,  169348,  198213,   75740,  216886,\n",
      "         51639,   17592,  137014,  451644,  148559, 1183236,   91307,\n",
      "        276594,   70975,    9846,  169809,   48424,  183372,  325657,\n",
      "        121386,  136511,  132765,  160347,  522715,  113517,  133965,\n",
      "        163455,  111622,  157781,  124071,  130144,   84209,  252776,\n",
      "        123184]), 'pop_ratio': array([0.02746997, 0.03588758, 0.02589107, 0.02450373, 0.02868034,\n",
      "       0.01095917, 0.03138222, 0.00747188, 0.00254547, 0.01982518,\n",
      "       0.06535043, 0.02149568, 0.17120781, 0.01321163, 0.04002165,\n",
      "       0.0102697 , 0.00142466, 0.02457044, 0.00700669, 0.02653293,\n",
      "       0.0471208 , 0.01756389, 0.0197524 , 0.01921037, 0.02320134,\n",
      "       0.07563402, 0.01642529, 0.01938401, 0.02365105, 0.0161511 ,\n",
      "       0.02283005, 0.0179524 , 0.01883113, 0.01218458, 0.03657531,\n",
      "       0.01782405]), 'city': array(['aurich', 'braunschweig', 'celle', 'cloppenburg', 'cuxhaven',\n",
      "       'delmenhorst', 'diepholz', 'emden', 'gifhorn', 'goslar',\n",
      "       'gottingen', 'hameln', 'hannover', 'helmstedt', 'hildesheim',\n",
      "       'holzminden', 'jever', 'leer', 'luchow', 'luneburg', 'meppen',\n",
      "       'nienburg', 'nordhorn', 'northeim', 'oldenburg', 'osnabruck',\n",
      "       'osterholz-scharmbeck', 'peine', 'rotenburg', 'salzgitter',\n",
      "       'stadthagen', 'westerstede', 'wildeshausen', 'wilhelmshaven',\n",
      "       'winsen', 'wolfsburg'], dtype='<U20'), 'nr_kh_per_city': [9, 12, 9, 8, 9, 4, 10, 3, 1, 7, 21, 7, 53, 5, 13, 4, 1, 8, 3, 9, 15, 6, 7, 6, 8, 24, 6, 6, 8, 5, 8, 6, 6, 4, 12, 6], 'city_positions': [(53.466667, 7.483333), (52.26465770000001, 10.523606599999999), (52.61666700000001, 10.083333), (52.85, 8.033333), (53.88333299999999, 8.7), (53.05, 8.616667), (52.6, 8.366667), (53.36666700000001, 7.216667), (52.483332999999995, 10.55), (51.9, 10.433333), (51.533333, 9.933333), (52.1, 9.35), (52.374477899999995, 9.738553199999998), (52.233333, 11.0), (52.15, 9.966667), (51.816666999999995, 9.45), (53.583332999999996, 7.9), (53.233332999999995, 7.433333), (52.966667, 11.15), (53.25, 10.4), (52.683333, 7.316667), (52.63333299999999, 9.216667), (52.433333, 7.0833330000000005), (51.7, 10.0), (53.166667000000004, 8.2), (52.266667, 8.05), (53.233332999999995, 8.8), (52.316666999999995, 10.233333), (53.11666700000001, 9.4), (52.083333, 10.333333), (52.316666999999995, 9.2), (53.25, 7.933333), (52.9, 8.433333), (53.516667000000005, 8.133333), (53.833332999999996, 10.016667), (52.433333, 10.8)]}, 'NW': {'pop_insges': 8544640, 'pop_list': array([ 806569,  470089,  283455,  327198,  387061,  314081,  370676,\n",
      "        120829,  219929,  348391,  594255,  505271,  263722,  577139,\n",
      "        576914,   19284,  271647,  272471,  364083,  199497,  186289,\n",
      "        254322,  250783,  173121,  140667,  310974, 1061000,  239908,\n",
      "        159088,   41212,  260475,  485684,   31071,  264969,  170936,\n",
      "        272452,  451007,  220916,  134775,   30689,  615261,  118230,\n",
      "        324296,   59978,   27821,  301902,  165192,  363240]), 'pop_ratio': array([0.05597745, 0.03262509, 0.01967233, 0.02270818, 0.02686278,\n",
      "       0.02179783, 0.02572563, 0.00838577, 0.0152635 , 0.02417901,\n",
      "       0.04124245, 0.03506679, 0.01830282, 0.04005457, 0.04003895,\n",
      "       0.00133835, 0.01885283, 0.01891002, 0.02526807, 0.01384548,\n",
      "       0.01292882, 0.01765044, 0.01740483, 0.01201493, 0.00976256,\n",
      "       0.0215822 , 0.07363546, 0.01665008, 0.01104102, 0.00286019,\n",
      "       0.01807747, 0.03370741, 0.00215639, 0.01838936, 0.01186329,\n",
      "       0.0189087 , 0.03130076, 0.015332  , 0.00935365, 0.00212988,\n",
      "       0.04270031, 0.00820539, 0.02250677, 0.00416259, 0.00193083,\n",
      "       0.02095258, 0.01146465, 0.02520956]), 'city': array(['aachen', 'bergheim', 'bergischgladbach', 'bielefeld', 'bochum',\n",
      "       'bonn', 'borken', 'bottrop', 'coesfeld', 'detmold', 'dortmund',\n",
      "       'duisburg', 'duren', 'dusseldorf', 'essen', 'euskirchen',\n",
      "       'gelsenkirchen', 'gummersbach', 'gutersloh', 'hagen', 'hamm',\n",
      "       'heinsberg', 'herford', 'herne', 'hoxter', 'klevendeich', 'koln',\n",
      "       'krefeld', 'leverkusen', 'ludenscheid', 'meschede', 'mettmann',\n",
      "       'minden', 'monchengladbach', 'mulheimanderruhr', 'munster',\n",
      "       'neuss', 'oberhausen', 'olpe', 'paderborn', 'recklinghausen',\n",
      "       'remscheid', 'schwelm', 'siegburg', 'siegen', 'soest', 'solingen',\n",
      "       'wuppertal'], dtype='<U16'), 'nr_kh_per_city': [29, 17, 10, 12, 14, 21, 13, 5, 8, 13, 21, 18, 10, 21, 21, 1, 10, 10, 13, 7, 7, 9, 9, 7, 5, 11, 37, 9, 6, 6, 10, 17, 2, 10, 6, 10, 16, 8, 5, 5, 22, 5, 12, 3, 3, 11, 6, 13], 'city_positions': [(50.770833, 6.105278), (50.966667, 6.65), (50.983333, 7.133333), (52.033333, 8.533333), (51.483333, 7.216667), (50.733333, 7.1), (51.85, 6.866667), (51.516667, 6.9166669999999995), (51.933333000000005, 7.15), (51.933333000000005, 8.883333), (51.516667, 7.45), (51.433333000000005, 6.75), (50.8, 6.483333), (51.216667, 6.766667), (51.45, 7.016667), (50.666667, 6.783333), (51.516667, 7.05), (51.033333, 7.55), (51.9, 8.383333), (51.35, 7.466667), (51.683333000000005, 7.8), (51.066666999999995, 6.0833330000000005), (52.133333, 8.683333), (51.55, 7.216667), (51.766667, 9.383333), (53.666667000000004, 9.616667), (50.938361, 6.959974000000001), (51.333333, 6.566667), (51.016667, 6.983333), (51.216667, 7.616667), (51.35, 8.283333), (51.25, 6.966667), (52.283333, 8.916667), (51.2, 6.433333), (51.4272925, 6.8829192), (51.966667, 7.633333), (51.2, 6.683333), (51.466667, 6.85), (51.033333, 7.85), (51.716667, 8.766667), (51.616667, 7.2), (51.183333000000005, 7.2), (51.283333, 7.283333), (50.8, 7.2), (50.866667, 8.033333), (51.583333, 8.116667), (51.183333000000005, 7.0833330000000005), (51.266667, 7.183333)]}, 'RP': {'pop_insges': 8544640, 'pop_list': array([128705, 129244,  13266, 122308,  15808, 129727,   8072,  98561,\n",
      "        61587,  47523, 129075, 210889, 205004,  75101, 322405,  70526,\n",
      "        42031, 162514, 187940,  45661, 181941,  43539, 102937,  49930,\n",
      "       100649, 112262,  82104,  35970]), 'pop_ratio': array([0.04414843, 0.04433332, 0.00455051, 0.04195413, 0.00542247,\n",
      "       0.044499  , 0.00276886, 0.03380843, 0.02112559, 0.01630136,\n",
      "       0.04427535, 0.07233922, 0.07032054, 0.02576117, 0.11059147,\n",
      "       0.02419185, 0.01441749, 0.05574561, 0.06446724, 0.01566265,\n",
      "       0.06240946, 0.01493476, 0.03530948, 0.01712701, 0.03452465,\n",
      "       0.03850815, 0.02816334, 0.01233844]), 'city': array(['altenkirchen', 'alzey', 'baddurkheim', 'badems', 'badkreuznach',\n",
      "       'badneuenahr-ahrweiler', 'birkenfeld', 'bitburg', 'cochem',\n",
      "       'frankenthal', 'germersheim', 'ingelheimamrhein', 'kaiserslautern',\n",
      "       'kirchheimbolanden', 'koblenz', 'kusel', 'landau', 'ludwigshafen',\n",
      "       'mainz', 'neustadt', 'neuwied', 'pirmasens', 'simmern', 'speyer',\n",
      "       'trier', 'wittlich', 'worms', 'zweibrucken'], dtype='<U21'), 'nr_kh_per_city': [7, 7, 1, 6, 1, 7, 3, 5, 4, 3, 7, 11, 10, 4, 16, 4, 3, 8, 10, 3, 9, 3, 6, 3, 5, 6, 4, 2], 'city_positions': [(54.63333299999999, 13.333332999999998), (49.751667, 8.116111), (49.468610999999996, 8.166389), (50.333333, 7.716667), (49.833333, 7.866667), (50.55, 7.1), (48.866667, 8.633333), (49.966667, 6.533333), (50.133333, 7.15), (49.537222, 8.355), (49.223056, 8.363889), (49.980556, 8.073611), (49.45, 7.75), (49.6725, 8.018889), (50.35, 7.6), (49.55, 7.4), (49.2075, 8.113333), (49.481111, 8.435278), (50.0, 8.271111), (52.5, 9.466667), (50.433333000000005, 7.466667), (49.2, 7.6), (49.983333, 7.516667), (49.3165553, 8.433615), (49.75, 6.633333), (49.983333, 6.883333), (49.635556, 8.359722), (49.25, 7.366667)]}, 'SL': {'pop_insges': 8544640, 'pop_list': array([142631, 103366, 132206, 329708, 195201]), 'pop_ratio': array([0.15793279, 0.11445535, 0.14638937, 0.36507986, 0.21614263]), 'city': array(['badhomburg', 'merzig', 'ottweiler', 'saarbrucken', 'saarlouis'],\n",
      "      dtype='<U11'), 'nr_kh_per_city': [6, 5, 6, 13, 8], 'city_positions': [(50.216667, 8.616667), (49.45, 6.633333), (49.383333, 7.1666669999999995), (49.233333, 7.0), (49.316666999999995, 6.75)]}, 'SN': {'pop_insges': 8544640, 'pop_list': array([337696,  30088, 257763, 246654, 480801, 306185, 254894, 492637,\n",
      "       242165, 245611, 197673]), 'pop_ratio': array([0.10921014, 0.00973039, 0.08335999, 0.07976736, 0.15548998,\n",
      "       0.09901955, 0.08243216, 0.15931772, 0.07831563, 0.07943006,\n",
      "       0.06392701]), 'city': array(['annaberg-buchholz', 'bautzen', 'borna', 'chemnitz', 'dresden',\n",
      "       'freiberg', 'gorlitz', 'leipzig', 'meissen-dobritz', 'pirna',\n",
      "       'torgau'], dtype='<U17'), 'nr_kh_per_city': [16, 2, 12, 12, 22, 14, 12, 23, 11, 11, 9], 'city_positions': [(50.566666999999995, 13.0), (51.183333000000005, 14.433333), (51.116667, 12.5), (50.833333, 12.916667), (51.05, 13.75), (50.916667, 13.366667000000001), (51.166667, 15.0), (51.3, 12.333333), (51.133333, 13.45), (50.966667, 13.933333), (51.566666999999995, 13.0)]}, 'ST': {'pop_insges': 8544640, 'pop_list': array([ 19056,  89928, 214446, 171734, 232452, 159854, 224428, 184582,\n",
      "        18019,  83765, 136249]), 'pop_ratio': array([0.01241827, 0.05860361, 0.13974857, 0.11191433, 0.15148259,\n",
      "       0.10417246, 0.14625357, 0.12028702, 0.01174249, 0.05458735,\n",
      "       0.08878973]), 'city': array(['bernburg', 'burgdorf', 'halberstadt', 'haldensleben', 'halle',\n",
      "       'kothen', 'magdeburg', 'merseburg', 'naumburg', 'salzwedel',\n",
      "       'sangerhausen'], dtype='<U12'), 'nr_kh_per_city': [2, 5, 12, 10, 13, 9, 13, 10, 1, 5, 8], 'city_positions': [(51.8, 11.733333), (52.45, 10.016667), (51.9, 11.05), (52.3, 11.416667), (51.5, 12.0), (51.75, 11.966667), (52.166667, 11.666667), (51.366667, 12.0), (51.15, 11.816667), (52.85, 11.15), (51.466667, 11.3)]}, 'SH': {'pop_insges': 8544640, 'pop_list': array([ 276032,  314391,  200581,   85158, 1397977,  165507,  235264,\n",
      "        213171,   79429,  128647,  197264,  272775,  200025]), 'pop_ratio': array([0.0732915 , 0.08347651, 0.05325789, 0.02261099, 0.37118825,\n",
      "       0.04394511, 0.06246686, 0.05660077, 0.02108984, 0.03415811,\n",
      "       0.05237717, 0.07242671, 0.05311027]), 'city': array(['badsegeberg', 'elmshorn', 'eutin', 'flensburg', 'heidelberg',\n",
      "       'husum', 'kiel', 'lubeck', 'neumunster', 'plon', 'ratzeburg',\n",
      "       'rendsburg', 'schleswig'], dtype='<U11'), 'nr_kh_per_city': [15, 17, 11, 5, 73, 9, 13, 12, 5, 7, 11, 15, 11], 'city_positions': [(53.933333, 10.316667), (53.75, 9.65), (54.13333299999999, 10.616667), (54.783333, 9.433333), (49.40935820000001, 8.694724), (54.466667, 9.05), (54.333332999999996, 10.133333), (53.86666700000001, 10.7), (54.066667, 9.983333), (54.166667000000004, 10.416667), (53.7, 10.766667), (54.3, 9.666667), (54.516667000000005, 9.55)]}, 'TH': {'pop_insges': 8544640, 'pop_list': array([ 90118, 106622,  44399,  83051, 196719, 104463, 135452,  98159,\n",
      "        10038,  63553,  99269, 125646,  83822, 104142,  80868,  69655,\n",
      "        75009,   5841,  43269,  65113]), 'pop_ratio': array([0.05347589, 0.06326934, 0.0263463 , 0.04928234, 0.11673277,\n",
      "       0.06198819, 0.08037702, 0.05824741, 0.00595653, 0.03771226,\n",
      "       0.05890608, 0.07455816, 0.04973985, 0.06179771, 0.04798695,\n",
      "       0.04133318, 0.04451023, 0.00346604, 0.02567576, 0.03863796]), 'city': array(['altenburg', 'arnstadt', 'eisenach', 'eisenberg', 'erfurt', 'gera',\n",
      "       'gotha', 'greiz', 'heilbadheiligenstadt', 'hildburghausen', 'jena',\n",
      "       'meiningen', 'nordhausen', 'saalfeld', 'schleiz', 'sommerda',\n",
      "       'sondershausen', 'sonneberg', 'suhl', 'weimar'], dtype='<U20'), 'nr_kh_per_city': [4, 4, 2, 4, 8, 4, 5, 4, 1, 3, 4, 5, 4, 4, 3, 3, 3, 1, 2, 3], 'city_positions': [(50.983333, 12.45), (50.833333, 10.95), (50.983333, 10.316667), (50.966667, 11.9), (50.983333, 11.033333), (50.866667, 12.083333), (50.95, 10.716667), (50.65, 12.2), (51.383333, 10.133333), (50.416667, 10.75), (50.933333000000005, 11.583333), (50.55, 10.416667), (51.516667, 10.8), (50.65, 11.366667), (50.583333, 11.816667), (51.15, 11.1), (51.366667, 10.866667), (50.35, 11.166667), (50.6, 10.7), (50.983333, 11.316667)]}}\n"
     ]
    }
   ],
   "source": [
    "print(mega_bl_dict)"
   ]
  },
  {
   "cell_type": "markdown",
   "metadata": {},
   "source": [
    "# Generate new hospital locations based on population ratio"
   ]
  },
  {
   "cell_type": "markdown",
   "metadata": {},
   "source": [
    "## Get hospital data"
   ]
  },
  {
   "cell_type": "code",
   "execution_count": 6,
   "metadata": {},
   "outputs": [],
   "source": [
    "kh_capacity_data = pd.read_csv('../../data/data_gatherer/KH_BL_data.csv')\n",
    "# source: https://www.destatis.de/DE/Themen/Gesellschaft-Umwelt/Gesundheit/Krankenhaeuser/_inhalt.html#sprg234206"
   ]
  },
  {
   "cell_type": "code",
   "execution_count": 21,
   "metadata": {},
   "outputs": [],
   "source": [
    "BL_kuerzel = {\n",
    "    'DL' : 'Deutschland',\n",
    "    'BW' : 'Baden-Wurttemberg',\n",
    "    'BY' : 'Bayern',\n",
    "    'BE' : 'Berlin',\n",
    "    'BB' : 'Brandenburg',\n",
    "    'HB' : 'Bremen',\n",
    "    'HH' : 'Hamburg',\n",
    "    'HE' : 'Hessen',\n",
    "    'MV' : 'Mecklenburg-Vorpommern',\n",
    "    'NI' : 'Niedersachsen',\n",
    "    'NW' : 'Nordrhein-Westfalen',\n",
    "    'RP' : 'Rheinland-Pfalz',\n",
    "    'SL' : 'Saarland',\n",
    "    'SN' : 'Sachsen',\n",
    "    'ST' : 'Sachsen-Anhalt',\n",
    "    'SH' : 'Schleswig-Holstein',\n",
    "    'TH' : 'Thuringen'\n",
    "}"
   ]
  },
  {
   "cell_type": "code",
   "execution_count": 22,
   "metadata": {},
   "outputs": [],
   "source": [
    "kh_capacity_data = kh_capacity_data.assign(BL = BL_kuerzel) \n",
    "\n",
    "KH_insges = np.array(list(kh_capacity_data['KH_insgesamt']))\n",
    "\n",
    "ratio_kh_per_BL = KH_insges/KH_insges[0]\n",
    "kh_capacity_data = kh_capacity_data.assign(Ratio_KH_per_BL = ratio_kh_per_BL)"
   ]
  },
  {
   "cell_type": "markdown",
   "metadata": {},
   "source": [
    "## See how many hospitals per BL still need to be scheduled"
   ]
  },
  {
   "cell_type": "code",
   "execution_count": 24,
   "metadata": {},
   "outputs": [],
   "source": [
    "df_kh = kh_capacity_data[['BL','KH_insgesamt','Ratio_KH_per_BL']]"
   ]
  },
  {
   "cell_type": "code",
   "execution_count": 25,
   "metadata": {},
   "outputs": [
    {
     "name": "stdout",
     "output_type": "stream",
     "text": [
      "{'BW': 265, 'BY': 354, 'BE': 83, 'BB': 57, 'HB': 14, 'HH': 58, 'HE': 159, 'MV': 39, 'NI': 180, 'NW': 344, 'RP': 87, 'SL': 23, 'SN': 77, 'ST': 48, 'SH': 111, 'TH': 43}\n"
     ]
    }
   ],
   "source": [
    "bl = np.array(list(df_kh['BL']))\n",
    "dictionary = dict(zip(bl, KH_insges))\n",
    "del dictionary['DL']\n",
    "print(dictionary)"
   ]
  },
  {
   "cell_type": "code",
   "execution_count": 26,
   "metadata": {},
   "outputs": [
    {
     "name": "stdout",
     "output_type": "stream",
     "text": [
      "{'BW': 200, 'BY': 202, 'BE': 80, 'BB': 40, 'HB': 13, 'HH': 57, 'HE': 123, 'MV': 31, 'NI': 149, 'NW': 200, 'RP': 71, 'SL': 15, 'SN': 67, 'ST': 40, 'SH': 93, 'TH': 28}\n"
     ]
    }
   ],
   "source": [
    "missing_kh_per_bl = {}\n",
    "for key,value in dictionary.items():\n",
    "    if key in kh_per_bl:\n",
    "        missing_kh_per_bl[key] = value - kh_per_bl[key]\n",
    "    else:\n",
    "        missing_kh_per_bl[key] = value\n",
    "print(missing_kh_per_bl)"
   ]
  },
  {
   "cell_type": "markdown",
   "metadata": {},
   "source": [
    "# Core: Generate hospitals in proportion to how many hospitals already exist in each city proportionally to population count"
   ]
  },
  {
   "cell_type": "code",
   "execution_count": 29,
   "metadata": {},
   "outputs": [],
   "source": [
    "# Algorithm\n",
    "# (1) get number of hospitals for a city/LK\n",
    "# (2) find city/LK with the least hospitals per population\n",
    "# (3) randomly place a hospital in a bounded box around the city\n",
    "# (3) update hospital count for the given city/LK\n",
    "# (4) reevaluate and loop until all hospitals are assigned\n",
    "\n",
    "\n",
    "import random\n",
    "new_hospitals = []\n",
    "\n",
    "# added for reproducability\n",
    "random.seed(42)\n",
    "\n",
    "for key,value in missing_kh_per_bl.items():\n",
    "    for i in range(value):\n",
    "        curr_lst = mega_bl_dict[key]['nr_kh_per_city'] / mega_bl_dict[key]['pop_list']\n",
    "        index_min = np.argmin(curr_lst)\n",
    "        PT = mega_bl_dict[key]['city_positions'][index_min] #gets coordinates of city which should get new KH\n",
    "        PT = (PT[0] + 0.1 - random.random()/5, PT[1] + 0.1 - random.random()/5)\n",
    "        new_hospitals.append(PT)\n",
    "        mega_bl_dict[key]['nr_kh_per_city'][index_min] += 1"
   ]
  },
  {
   "cell_type": "code",
   "execution_count": 31,
   "metadata": {},
   "outputs": [],
   "source": [
    "# get coordinates from already existing hospitals\n",
    "existing_hospitals = []\n",
    "for key,value in hospitals.items():\n",
    "    hosp = (value['position']['lat'], value['position']['lon'])\n",
    "    existing_hospitals.append(hosp)"
   ]
  },
  {
   "cell_type": "code",
   "execution_count": 292,
   "metadata": {},
   "outputs": [],
   "source": [
    "# merge into big hospital list\n",
    "all_hospitals = new_hospitals + existing_hospitals"
   ]
  },
  {
   "cell_type": "code",
   "execution_count": 295,
   "metadata": {},
   "outputs": [],
   "source": [
    "# dump to file\n",
    "with open('../../data/data_gatherer/all_hospitals.txt', 'w') as file:\n",
    "    file.write(str(all_hospitals))"
   ]
  },
  {
   "cell_type": "code",
   "execution_count": null,
   "metadata": {},
   "outputs": [],
   "source": []
  }
 ],
 "metadata": {
  "kernelspec": {
   "display_name": "Python 3",
   "language": "python",
   "name": "python3"
  },
  "language_info": {
   "codemirror_mode": {
    "name": "ipython",
    "version": 3
   },
   "file_extension": ".py",
   "mimetype": "text/x-python",
   "name": "python",
   "nbconvert_exporter": "python",
   "pygments_lexer": "ipython3",
   "version": "3.6.8"
  }
 },
 "nbformat": 4,
 "nbformat_minor": 2
}
