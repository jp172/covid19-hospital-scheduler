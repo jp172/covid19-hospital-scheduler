{
 "cells": [
  {
   "cell_type": "code",
   "execution_count": 2,
   "metadata": {},
   "outputs": [],
   "source": [
    "import requests\n",
    "import json\n",
    "import pandas as pd\n",
    "import numpy as np"
   ]
  },
  {
   "cell_type": "markdown",
   "metadata": {},
   "source": [
    "# Landkreisdaten"
   ]
  },
  {
   "cell_type": "code",
   "execution_count": 3,
   "metadata": {},
   "outputs": [],
   "source": [
    "LK_data = pd.read_csv('../../data/data_gatherer/LK_data_clean.csv')\n",
    "#source: https://de.wikipedia.org/wiki/Liste_der_Landkreise_in_Deutschland"
   ]
  },
  {
   "cell_type": "code",
   "execution_count": 3,
   "metadata": {},
   "outputs": [],
   "source": [
    "def get_city_opendata(city, country):\n",
    "    tmp = 'https://public.opendatasoft.com/api/records/1.0/search/?dataset=worldcitiespop&q=%s&sort=population&facet=country&refine.country=%s'\n",
    "    cmd = tmp % (city, country)\n",
    "    res = requests.get(cmd)\n",
    "    dct = json.loads(res.content)\n",
    "    out = dct['records'][0]['fields']\n",
    "    return out"
   ]
  },
  {
   "cell_type": "code",
   "execution_count": 4,
   "metadata": {},
   "outputs": [],
   "source": [
    "kreisstaedte = np.array(LK_data['Kreissitz'])"
   ]
  },
  {
   "cell_type": "code",
   "execution_count": 7,
   "metadata": {},
   "outputs": [],
   "source": [
    "def get_kreisstadt_info(kreisstaedte):\n",
    "    for idx,stadt in enumerate(kreisstaedte):\n",
    "        if idx % 10 == 0:\n",
    "            print(idx)\n",
    "        try:\n",
    "            dpt = get_city_opendata(stadt, 'de')\n",
    "            data_lk.append(dpt)\n",
    "        except:\n",
    "            print('Stadt ', stadt, 'nicht im Datensatz')\n",
    "    return data_lk"
   ]
  },
  {
   "cell_type": "code",
   "execution_count": 8,
   "metadata": {},
   "outputs": [
    {
     "name": "stdout",
     "output_type": "stream",
     "text": [
      "0\n",
      "10\n",
      "20\n",
      "30\n",
      "40\n",
      "50\n",
      "60\n",
      "70\n",
      "80\n",
      "90\n",
      "100\n",
      "110\n",
      "120\n",
      "130\n",
      "140\n",
      "150\n",
      "160\n",
      "170\n",
      "180\n",
      "190\n",
      "200\n",
      "210\n",
      "220\n",
      "230\n",
      "240\n",
      "250\n",
      "260\n",
      "270\n",
      "280\n"
     ]
    }
   ],
   "source": [
    "data_lk = []\n",
    "data_lk = get_kreisstadt_info(kreisstaedte)"
   ]
  },
  {
   "cell_type": "code",
   "execution_count": 9,
   "metadata": {},
   "outputs": [],
   "source": [
    "Einw_pro_LK = np.array(LK_data['Einw.'])\n",
    "BL_pro_LK = np.array(LK_data['BL'])"
   ]
  },
  {
   "cell_type": "code",
   "execution_count": 11,
   "metadata": {},
   "outputs": [],
   "source": [
    "#create dictionary\n",
    "kreisstadt_dict = {\n",
    "    f\"kreisstadt{index}\": {\n",
    "        \"city\": data_lk[index]['city'],\n",
    "        \"ident\": index,\n",
    "        \"position\": {\"lat\": data_lk[index]['latitude'], \"lon\": data_lk[index]['longitude']},\n",
    "        \"population_LK\": Einw_pro_LK[index],\n",
    "        \"BL\": BL_pro_LK[index]\n",
    "    }\n",
    "    for index, elm in enumerate(data_lk)\n",
    "} "
   ]
  },
  {
   "cell_type": "code",
   "execution_count": 12,
   "metadata": {},
   "outputs": [
    {
     "name": "stdout",
     "output_type": "stream",
     "text": [
      "49343348\n"
     ]
    }
   ],
   "source": [
    "#check population accounted for\n",
    "pop_cnt = 0\n",
    "for i in range(290):\n",
    "    pop_cnt += kreisstadt_dict[f\"kreisstadt{i}\"]['population_LK']\n",
    "print(pop_cnt)"
   ]
  },
  {
   "cell_type": "code",
   "execution_count": null,
   "metadata": {},
   "outputs": [],
   "source": [
    "# dump data\n",
    "import csv\n",
    "\n",
    "w = csv.writer(open(\"kreisstaedte_data_final.csv\", \"w\"))\n",
    "for key, val in kreisstadt_dict.items():\n",
    "    w.writerow([key, val])"
   ]
  },
  {
   "cell_type": "markdown",
   "metadata": {},
   "source": [
    "# Städtedaten"
   ]
  },
  {
   "cell_type": "code",
   "execution_count": 13,
   "metadata": {},
   "outputs": [],
   "source": [
    "staedte_data = pd.read_csv('../../data/data_gatherer/staedte_data.csv')\n",
    "#source: https://de.wikipedia.org/wiki/Liste_der_kreisfreien_St%C3%A4dte_in_Deutschland"
   ]
  },
  {
   "cell_type": "code",
   "execution_count": 15,
   "metadata": {},
   "outputs": [],
   "source": [
    "staedte = np.array(staedte_data['Stadt'])"
   ]
  },
  {
   "cell_type": "code",
   "execution_count": 17,
   "metadata": {},
   "outputs": [],
   "source": [
    "def get_stadt_info(staedte):\n",
    "    for idx,stadt in enumerate(staedte):\n",
    "        if idx % 10 == 0:\n",
    "            print(idx)\n",
    "        try:\n",
    "            dpt = get_city_opendata(stadt, 'de')\n",
    "            data_stadt.append(dpt)\n",
    "        except:\n",
    "            print('Stadt ', stadt, 'nicht im Datensatz')\n",
    "    return data_stadt"
   ]
  },
  {
   "cell_type": "code",
   "execution_count": 18,
   "metadata": {},
   "outputs": [
    {
     "name": "stdout",
     "output_type": "stream",
     "text": [
      "0\n",
      "10\n",
      "20\n",
      "30\n",
      "40\n",
      "50\n",
      "60\n",
      "70\n",
      "80\n",
      "90\n",
      "100\n"
     ]
    }
   ],
   "source": [
    "data_stadt = []\n",
    "data_stadt = get_stadt_info(staedte)"
   ]
  },
  {
   "cell_type": "code",
   "execution_count": 19,
   "metadata": {},
   "outputs": [
    {
     "name": "stdout",
     "output_type": "stream",
     "text": [
      "<class 'list'>\n",
      "13 {'city': 'barum braunschweig', 'country': 'de', 'region': '06', 'geopoint': [52.116667, 10.433333], 'longitude': 10.433333, 'latitude': 52.116667, 'accentcity': 'Barum Braunschweig'}\n",
      "Doesn't have population info\n",
      "33 {'city': 'frankfurt am main', 'country': 'de', 'region': '05', 'geopoint': [50.116667, 8.683333], 'longitude': 8.683333, 'latitude': 50.116667, 'accentcity': 'Frankfurt am Main'}\n",
      "Doesn't have population info\n",
      "57 {'city': 'koln', 'country': 'de', 'region': '07', 'geopoint': [50.933333, 6.95], 'longitude': 6.95, 'latitude': 50.933333, 'accentcity': 'Köln'}\n",
      "Doesn't have population info\n",
      "70 {'city': 'mulheim an der ruhr', 'country': 'de', 'region': '07', 'geopoint': [51.433333, 6.883333], 'longitude': 6.883333, 'latitude': 51.433333, 'accentcity': 'Mülheim an der Ruhr'}\n",
      "Doesn't have population info\n",
      "71 {'city': 'munchenhof', 'country': 'de', 'region': '14', 'geopoint': [51.833333, 11.116667], 'longitude': 11.116667, 'latitude': 51.833333, 'accentcity': 'Münchenhof'}\n",
      "Doesn't have population info\n",
      "75 {'city': 'stein bei nurnberg', 'country': 'de', 'region': '02', 'geopoint': [49.416667, 11.016667], 'longitude': 11.016667, 'latitude': 49.416667, 'accentcity': 'Stein bei Nürnberg'}\n",
      "Doesn't have population info\n",
      "84 {'city': 'regensburg', 'country': 'de', 'region': '02', 'geopoint': [49.015, 12.095556], 'longitude': 12.095556, 'latitude': 49.015, 'accentcity': 'Regensburg'}\n",
      "Doesn't have population info\n",
      "93 {'city': 'speyer', 'country': 'de', 'region': '08', 'geopoint': [49.329722, 8.427778], 'longitude': 8.427778, 'latitude': 49.329722, 'accentcity': 'Speyer'}\n",
      "Doesn't have population info\n"
     ]
    }
   ],
   "source": [
    "print(type(data_stadt))\n",
    "\n",
    "for i, elm in enumerate(data_stadt):\n",
    "    try:\n",
    "        data_stadt[i]['population']\n",
    "    except:\n",
    "        print(i, elm)\n",
    "        print(\"Doesn't have population info\")"
   ]
  },
  {
   "cell_type": "code",
   "execution_count": 21,
   "metadata": {},
   "outputs": [],
   "source": [
    "with open('stadt.txt') as f:\n",
    "    lines = f.read().splitlines()"
   ]
  },
  {
   "cell_type": "code",
   "execution_count": 22,
   "metadata": {},
   "outputs": [],
   "source": [
    "# rest is manual work"
   ]
  },
  {
   "cell_type": "code",
   "execution_count": null,
   "metadata": {},
   "outputs": [],
   "source": []
  }
 ],
 "metadata": {
  "kernelspec": {
   "display_name": "Python 3",
   "language": "python",
   "name": "python3"
  },
  "language_info": {
   "codemirror_mode": {
    "name": "ipython",
    "version": 3
   },
   "file_extension": ".py",
   "mimetype": "text/x-python",
   "name": "python",
   "nbconvert_exporter": "python",
   "pygments_lexer": "ipython3",
   "version": "3.6.8"
  }
 },
 "nbformat": 4,
 "nbformat_minor": 2
}
